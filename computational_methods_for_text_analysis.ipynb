{
  "cells": [
    {
      "cell_type": "markdown",
      "metadata": {
        "id": "view-in-github",
        "colab_type": "text"
      },
      "source": [
        "<a href=\"https://colab.research.google.com/github/hakimozcan/Natural-Language-Processing/blob/main/computational_methods_for_text_analysis.ipynb\" target=\"_parent\"><img src=\"https://colab.research.google.com/assets/colab-badge.svg\" alt=\"Open In Colab\"/></a>"
      ]
    },
    {
      "cell_type": "markdown",
      "metadata": {
        "id": "KYGqIg6sTiuy"
      },
      "source": [
        "# Imports"
      ]
    },
    {
      "cell_type": "code",
      "execution_count": null,
      "metadata": {
        "id": "KMCY5sNgC_Az",
        "colab": {
          "base_uri": "https://localhost:8080/"
        },
        "outputId": "13cd29f7-1650-40b4-e63c-dcdd71586838"
      },
      "outputs": [
        {
          "output_type": "stream",
          "name": "stdout",
          "text": [
            "Looking in indexes: https://pypi.org/simple, https://us-python.pkg.dev/colab-wheels/public/simple/\n",
            "Requirement already satisfied: emoji in /usr/local/lib/python3.8/dist-packages (2.2.0)\n"
          ]
        },
        {
          "output_type": "stream",
          "name": "stderr",
          "text": [
            "[nltk_data] Downloading package stopwords to /root/nltk_data...\n",
            "[nltk_data]   Package stopwords is already up-to-date!\n",
            "[nltk_data] Downloading package punkt to /root/nltk_data...\n",
            "[nltk_data]   Package punkt is already up-to-date!\n",
            "[nltk_data] Downloading package wordnet to /root/nltk_data...\n",
            "[nltk_data]   Package wordnet is already up-to-date!\n",
            "[nltk_data] Downloading package omw-1.4 to /root/nltk_data...\n",
            "[nltk_data]   Package omw-1.4 is already up-to-date!\n"
          ]
        }
      ],
      "source": [
        "#stats\n",
        "import pandas as pd\n",
        "import sklearn\n",
        "from sklearn.feature_extraction.text import TfidfVectorizer\n",
        "from sklearn.cluster import KMeans\n",
        "from sklearn import cluster\n",
        "import matplotlib.pyplot as plt\n",
        "import matplotlib.ticker as ticker\n",
        "import numpy  as np\n",
        "\n",
        "#support\n",
        "import re\n",
        "import html\n",
        "import datetime\n",
        "import os\n",
        "from os import listdir\n",
        "from os.path import isfile, join\n",
        "from pathlib import Path\n",
        "import json\n",
        "from os.path import basename\n",
        "from zipfile import ZipFile\n",
        "import string\n",
        "import pickle\n",
        "\n",
        "!pip install emoji\n",
        "import emoji\n",
        "\n",
        "\n",
        "#NLP\n",
        "import nltk\n",
        "from nltk.tokenize import word_tokenize\n",
        "from nltk.corpus import stopwords\n",
        "from nltk.probability import FreqDist\n",
        "from collections import Counter\n",
        "nltk.download('stopwords')\n",
        "nltk.download('punkt')\n",
        "nltk.download('wordnet')\n",
        "nltk.download('omw-1.4')\n",
        "lemmatizer = nltk.stem.WordNetLemmatizer()\n",
        "\n",
        "\n",
        "import spacy\n",
        "from spacy.symbols import nsubj, VERB\n",
        "nlp = spacy.load(\"en_core_web_sm\")\n",
        "\n",
        "from wordcloud import WordCloud\n",
        "\n",
        "#LDA\n",
        "import gensim\n",
        "import gensim.corpora as corpora\n",
        "from gensim.utils import simple_preprocess\n",
        "from gensim.models import CoherenceModel, LdaModel, LsiModel, HdpModel\n",
        "from gensim import corpora, models\n",
        "from gensim.models import Phrases\n",
        "from gensim.corpora import Dictionary\n",
        "\n",
        "\n",
        "#Visualisation\n",
        "import matplotlib.pyplot as plt\n",
        "import matplotlib.ticker as ticker\n",
        "\n",
        "from pprint import pprint"
      ]
    },
    {
      "cell_type": "markdown",
      "metadata": {
        "id": "et7wM0Ijl33H"
      },
      "source": [
        "# Task One (10 points)"
      ]
    },
    {
      "cell_type": "code",
      "execution_count": null,
      "metadata": {
        "id": "M85RgR0lmH-X",
        "colab": {
          "base_uri": "https://localhost:8080/"
        },
        "outputId": "17d228f8-5d3c-419b-afe6-b22b68b749a6"
      },
      "outputs": [
        {
          "output_type": "stream",
          "name": "stdout",
          "text": [
            "Drive already mounted at /content/drive; to attempt to forcibly remount, call drive.mount(\"/content/drive\", force_remount=True).\n"
          ]
        }
      ],
      "source": [
        "from google.colab import drive\n",
        "drive.mount('/content/drive')"
      ]
    },
    {
      "cell_type": "code",
      "execution_count": null,
      "metadata": {
        "id": "uhYFcFxomDFn",
        "colab": {
          "base_uri": "https://localhost:8080/",
          "height": 204
        },
        "outputId": "483269bf-e938-4067-b343-69c5483cd73a"
      },
      "outputs": [
        {
          "output_type": "execute_result",
          "data": {
            "text/plain": [
              "   Unnamed: 0             title    type  year  \\\n",
              "0           0  Better Call Saul  linear  2017   \n",
              "1           1  Better Call Saul  linear  2016   \n",
              "2           2  Better Call Saul  linear  2017   \n",
              "3           3  Better Call Saul  linear  2018   \n",
              "4           4  Better Call Saul  linear  2017   \n",
              "\n",
              "                                                post  \n",
              "0                  Walter. And there the chain ends.  \n",
              "1  I love this show. But it's hard to argue again...  \n",
              "2  What am I missing?  A lot of reference to ribs...  \n",
              "3          Oh come on Mike, he's a good little boy.   \n",
              "4                                       Look again 👀  "
            ],
            "text/html": [
              "\n",
              "  <div id=\"df-f2478438-a6c7-4848-9ff2-ce71db9ed60a\">\n",
              "    <div class=\"colab-df-container\">\n",
              "      <div>\n",
              "<style scoped>\n",
              "    .dataframe tbody tr th:only-of-type {\n",
              "        vertical-align: middle;\n",
              "    }\n",
              "\n",
              "    .dataframe tbody tr th {\n",
              "        vertical-align: top;\n",
              "    }\n",
              "\n",
              "    .dataframe thead th {\n",
              "        text-align: right;\n",
              "    }\n",
              "</style>\n",
              "<table border=\"1\" class=\"dataframe\">\n",
              "  <thead>\n",
              "    <tr style=\"text-align: right;\">\n",
              "      <th></th>\n",
              "      <th>Unnamed: 0</th>\n",
              "      <th>title</th>\n",
              "      <th>type</th>\n",
              "      <th>year</th>\n",
              "      <th>post</th>\n",
              "    </tr>\n",
              "  </thead>\n",
              "  <tbody>\n",
              "    <tr>\n",
              "      <th>0</th>\n",
              "      <td>0</td>\n",
              "      <td>Better Call Saul</td>\n",
              "      <td>linear</td>\n",
              "      <td>2017</td>\n",
              "      <td>Walter. And there the chain ends.</td>\n",
              "    </tr>\n",
              "    <tr>\n",
              "      <th>1</th>\n",
              "      <td>1</td>\n",
              "      <td>Better Call Saul</td>\n",
              "      <td>linear</td>\n",
              "      <td>2016</td>\n",
              "      <td>I love this show. But it's hard to argue again...</td>\n",
              "    </tr>\n",
              "    <tr>\n",
              "      <th>2</th>\n",
              "      <td>2</td>\n",
              "      <td>Better Call Saul</td>\n",
              "      <td>linear</td>\n",
              "      <td>2017</td>\n",
              "      <td>What am I missing?  A lot of reference to ribs...</td>\n",
              "    </tr>\n",
              "    <tr>\n",
              "      <th>3</th>\n",
              "      <td>3</td>\n",
              "      <td>Better Call Saul</td>\n",
              "      <td>linear</td>\n",
              "      <td>2018</td>\n",
              "      <td>Oh come on Mike, he's a good little boy.</td>\n",
              "    </tr>\n",
              "    <tr>\n",
              "      <th>4</th>\n",
              "      <td>4</td>\n",
              "      <td>Better Call Saul</td>\n",
              "      <td>linear</td>\n",
              "      <td>2017</td>\n",
              "      <td>Look again 👀</td>\n",
              "    </tr>\n",
              "  </tbody>\n",
              "</table>\n",
              "</div>\n",
              "      <button class=\"colab-df-convert\" onclick=\"convertToInteractive('df-f2478438-a6c7-4848-9ff2-ce71db9ed60a')\"\n",
              "              title=\"Convert this dataframe to an interactive table.\"\n",
              "              style=\"display:none;\">\n",
              "        \n",
              "  <svg xmlns=\"http://www.w3.org/2000/svg\" height=\"24px\"viewBox=\"0 0 24 24\"\n",
              "       width=\"24px\">\n",
              "    <path d=\"M0 0h24v24H0V0z\" fill=\"none\"/>\n",
              "    <path d=\"M18.56 5.44l.94 2.06.94-2.06 2.06-.94-2.06-.94-.94-2.06-.94 2.06-2.06.94zm-11 1L8.5 8.5l.94-2.06 2.06-.94-2.06-.94L8.5 2.5l-.94 2.06-2.06.94zm10 10l.94 2.06.94-2.06 2.06-.94-2.06-.94-.94-2.06-.94 2.06-2.06.94z\"/><path d=\"M17.41 7.96l-1.37-1.37c-.4-.4-.92-.59-1.43-.59-.52 0-1.04.2-1.43.59L10.3 9.45l-7.72 7.72c-.78.78-.78 2.05 0 2.83L4 21.41c.39.39.9.59 1.41.59.51 0 1.02-.2 1.41-.59l7.78-7.78 2.81-2.81c.8-.78.8-2.07 0-2.86zM5.41 20L4 18.59l7.72-7.72 1.47 1.35L5.41 20z\"/>\n",
              "  </svg>\n",
              "      </button>\n",
              "      \n",
              "  <style>\n",
              "    .colab-df-container {\n",
              "      display:flex;\n",
              "      flex-wrap:wrap;\n",
              "      gap: 12px;\n",
              "    }\n",
              "\n",
              "    .colab-df-convert {\n",
              "      background-color: #E8F0FE;\n",
              "      border: none;\n",
              "      border-radius: 50%;\n",
              "      cursor: pointer;\n",
              "      display: none;\n",
              "      fill: #1967D2;\n",
              "      height: 32px;\n",
              "      padding: 0 0 0 0;\n",
              "      width: 32px;\n",
              "    }\n",
              "\n",
              "    .colab-df-convert:hover {\n",
              "      background-color: #E2EBFA;\n",
              "      box-shadow: 0px 1px 2px rgba(60, 64, 67, 0.3), 0px 1px 3px 1px rgba(60, 64, 67, 0.15);\n",
              "      fill: #174EA6;\n",
              "    }\n",
              "\n",
              "    [theme=dark] .colab-df-convert {\n",
              "      background-color: #3B4455;\n",
              "      fill: #D2E3FC;\n",
              "    }\n",
              "\n",
              "    [theme=dark] .colab-df-convert:hover {\n",
              "      background-color: #434B5C;\n",
              "      box-shadow: 0px 1px 3px 1px rgba(0, 0, 0, 0.15);\n",
              "      filter: drop-shadow(0px 1px 2px rgba(0, 0, 0, 0.3));\n",
              "      fill: #FFFFFF;\n",
              "    }\n",
              "  </style>\n",
              "\n",
              "      <script>\n",
              "        const buttonEl =\n",
              "          document.querySelector('#df-f2478438-a6c7-4848-9ff2-ce71db9ed60a button.colab-df-convert');\n",
              "        buttonEl.style.display =\n",
              "          google.colab.kernel.accessAllowed ? 'block' : 'none';\n",
              "\n",
              "        async function convertToInteractive(key) {\n",
              "          const element = document.querySelector('#df-f2478438-a6c7-4848-9ff2-ce71db9ed60a');\n",
              "          const dataTable =\n",
              "            await google.colab.kernel.invokeFunction('convertToInteractive',\n",
              "                                                     [key], {});\n",
              "          if (!dataTable) return;\n",
              "\n",
              "          const docLinkHtml = 'Like what you see? Visit the ' +\n",
              "            '<a target=\"_blank\" href=https://colab.research.google.com/notebooks/data_table.ipynb>data table notebook</a>'\n",
              "            + ' to learn more about interactive tables.';\n",
              "          element.innerHTML = '';\n",
              "          dataTable['output_type'] = 'display_data';\n",
              "          await google.colab.output.renderOutput(dataTable, element);\n",
              "          const docLink = document.createElement('div');\n",
              "          docLink.innerHTML = docLinkHtml;\n",
              "          element.appendChild(docLink);\n",
              "        }\n",
              "      </script>\n",
              "    </div>\n",
              "  </div>\n",
              "  "
            ]
          },
          "metadata": {},
          "execution_count": 89
        }
      ],
      "source": [
        "# Get data\n",
        "df = pd.read_csv(\"/Q1_discussions.csv\")\n",
        "df.head()"
      ]
    },
    {
      "cell_type": "markdown",
      "metadata": {
        "id": "qgQvU1t9mPtI"
      },
      "source": [
        "## Question 1.1"
      ]
    },
    {
      "cell_type": "markdown",
      "metadata": {
        "id": "pud-Y5EumWLV"
      },
      "source": [
        "Based on the provided data, identify the most discussed show for each year."
      ]
    },
    {
      "cell_type": "code",
      "execution_count": null,
      "metadata": {
        "colab": {
          "base_uri": "https://localhost:8080/"
        },
        "id": "WI15_EDWmDIG",
        "outputId": "f3ca1ea8-1bb4-4685-bf33-7de84a459427"
      },
      "outputs": [
        {
          "output_type": "stream",
          "name": "stdout",
          "text": [
            "    year            title  post\n",
            "0   2011     Breaking Bad   588\n",
            "1   2012     Breaking Bad  3208\n",
            "2   2012     The Newsroom   134\n",
            "3   2013     Breaking Bad  2627\n",
            "4   2013   House of Cards     5\n",
            "..   ...              ...   ...\n",
            "59  2020            Ozark   865\n",
            "60  2020       Succession     3\n",
            "61  2020        The Crown    15\n",
            "62  2020  The Mandelorian     1\n",
            "63  2020      The Witcher   240\n",
            "\n",
            "[64 rows x 3 columns]\n"
          ]
        }
      ],
      "source": [
        "#Groupby posts with respect to year and title\n",
        "df_new = df.groupby(['year', 'title'])['post'].count().reset_index()\n",
        "df_new = pd.DataFrame(df_new).copy()\n",
        "print(df_new)"
      ]
    },
    {
      "cell_type": "code",
      "execution_count": null,
      "metadata": {
        "id": "aJv_5cFcmDLS",
        "colab": {
          "base_uri": "https://localhost:8080/"
        },
        "outputId": "755e6224-93f7-4c78-e8eb-3a2e156acede"
      },
      "outputs": [
        {
          "output_type": "stream",
          "name": "stdout",
          "text": [
            "                title  post\n",
            "year                       \n",
            "2011     Breaking Bad   588\n",
            "2012     The Newsroom  3208\n",
            "2013     The Newsroom  2627\n",
            "2014   True Detective   563\n",
            "2015   True Detective  4559\n",
            "2016  Stranger Things  6313\n",
            "2017       Twin Peaks  3903\n",
            "2018        The Crown  2427\n",
            "2019   True Detective  1450\n",
            "2020      The Witcher  1458\n"
          ]
        },
        {
          "output_type": "stream",
          "name": "stderr",
          "text": [
            "<ipython-input-91-a25b65efc615>:3: FutureWarning: Indexing with multiple keys (implicitly converted to a tuple of keys) will be deprecated, use a list instead.\n",
            "  df_new = df_new.groupby('year')['post', 'title'].max()\n"
          ]
        }
      ],
      "source": [
        "# Returns the most discussed show for each year.\n",
        "df_new = df.groupby(['year', 'title'])['post'].count().reset_index()\n",
        "df_new = df_new.groupby('year')['post', 'title'].max()\n",
        "columns_titles = [\"title\", \"post\"] #Swap the title and post columns\n",
        "df_new = df_new.reindex(columns=columns_titles)\n",
        "print(df_new)"
      ]
    },
    {
      "cell_type": "markdown",
      "metadata": {
        "id": "aOuDgnWim1A5"
      },
      "source": [
        "## Question 1.2"
      ]
    },
    {
      "cell_type": "markdown",
      "metadata": {
        "id": "XykwTKAem8B9"
      },
      "source": [
        "Select a sub-sample of two shows that you are interested in. First,\n",
        "\n",
        "*   Motivate your choice\n",
        "*   State a hypothesis about the differences that you expect to find regarding how the shows are being discussed on Reddit."
      ]
    },
    {
      "cell_type": "markdown",
      "metadata": {
        "id": "grHV4iTRoYcv"
      },
      "source": [
        "### Hypothesis\n",
        "\n"
      ]
    },
    {
      "cell_type": "markdown",
      "source": [
        "Among all the TV shows, I only watched Game of Thrones and am inclined to watcht Stranger Things next. Since the questions does not ask for an academic motivation, this should be a sufficient reason to motivate my choice of these movies. Based on the previous analysis, Game of Thrones never received the highest amount of discussion posts whereas Stranger things  recieved the 6313 discussion posts in the year, 2016, it was premiered on Netflix. No other TV series in the data set received this amount discussion post in a single year. So, Stranger Things is popular and will probably continue to be popular. However, I claim that Games of Thrones will receive a higher number of discussion in 2019 as it had unexpeced tragic end.\n",
        "\n",
        "In short, I hypothesize that Game of Thrones received a higher number of discussions posts than Stanger Things, despite its popularity, in 2019."
      ],
      "metadata": {
        "id": "ltJl_Fl8yJzn"
      }
    },
    {
      "cell_type": "code",
      "source": [
        "df_selected = df[(df[\"title\"].isin([\"Game of Thrones\", \"Stranger Things\"])) & (df[\"year\"] == 2019)]\n",
        "df_selected.head()"
      ],
      "metadata": {
        "colab": {
          "base_uri": "https://localhost:8080/",
          "height": 204
        },
        "id": "A4XqIdIaWHjL",
        "outputId": "a1aebc48-d2b8-4680-e8eb-db3aa43e00bc"
      },
      "execution_count": null,
      "outputs": [
        {
          "output_type": "execute_result",
          "data": {
            "text/plain": [
              "       Unnamed: 0            title    type  year  \\\n",
              "19130       19130  Game of Thrones  linear  2019   \n",
              "19145       19145  Game of Thrones  linear  2019   \n",
              "19160       19160  Game of Thrones  linear  2019   \n",
              "19163       19163  Game of Thrones  linear  2019   \n",
              "19204       19204  Game of Thrones  linear  2019   \n",
              "\n",
              "                                                    post  \n",
              "19130  Dude the umber boy that was pinned to the wall...  \n",
              "19145  Okay the episode was good i guess but i really...  \n",
              "19160                                            Really?  \n",
              "19163  I think the drawing said dragon glass, and tra...  \n",
              "19204  Death stare ? I thought it kinda looked like t...  "
            ],
            "text/html": [
              "\n",
              "  <div id=\"df-3ef33dc2-8a03-4b6c-8d4c-bc752f77bea8\">\n",
              "    <div class=\"colab-df-container\">\n",
              "      <div>\n",
              "<style scoped>\n",
              "    .dataframe tbody tr th:only-of-type {\n",
              "        vertical-align: middle;\n",
              "    }\n",
              "\n",
              "    .dataframe tbody tr th {\n",
              "        vertical-align: top;\n",
              "    }\n",
              "\n",
              "    .dataframe thead th {\n",
              "        text-align: right;\n",
              "    }\n",
              "</style>\n",
              "<table border=\"1\" class=\"dataframe\">\n",
              "  <thead>\n",
              "    <tr style=\"text-align: right;\">\n",
              "      <th></th>\n",
              "      <th>Unnamed: 0</th>\n",
              "      <th>title</th>\n",
              "      <th>type</th>\n",
              "      <th>year</th>\n",
              "      <th>post</th>\n",
              "    </tr>\n",
              "  </thead>\n",
              "  <tbody>\n",
              "    <tr>\n",
              "      <th>19130</th>\n",
              "      <td>19130</td>\n",
              "      <td>Game of Thrones</td>\n",
              "      <td>linear</td>\n",
              "      <td>2019</td>\n",
              "      <td>Dude the umber boy that was pinned to the wall...</td>\n",
              "    </tr>\n",
              "    <tr>\n",
              "      <th>19145</th>\n",
              "      <td>19145</td>\n",
              "      <td>Game of Thrones</td>\n",
              "      <td>linear</td>\n",
              "      <td>2019</td>\n",
              "      <td>Okay the episode was good i guess but i really...</td>\n",
              "    </tr>\n",
              "    <tr>\n",
              "      <th>19160</th>\n",
              "      <td>19160</td>\n",
              "      <td>Game of Thrones</td>\n",
              "      <td>linear</td>\n",
              "      <td>2019</td>\n",
              "      <td>Really?</td>\n",
              "    </tr>\n",
              "    <tr>\n",
              "      <th>19163</th>\n",
              "      <td>19163</td>\n",
              "      <td>Game of Thrones</td>\n",
              "      <td>linear</td>\n",
              "      <td>2019</td>\n",
              "      <td>I think the drawing said dragon glass, and tra...</td>\n",
              "    </tr>\n",
              "    <tr>\n",
              "      <th>19204</th>\n",
              "      <td>19204</td>\n",
              "      <td>Game of Thrones</td>\n",
              "      <td>linear</td>\n",
              "      <td>2019</td>\n",
              "      <td>Death stare ? I thought it kinda looked like t...</td>\n",
              "    </tr>\n",
              "  </tbody>\n",
              "</table>\n",
              "</div>\n",
              "      <button class=\"colab-df-convert\" onclick=\"convertToInteractive('df-3ef33dc2-8a03-4b6c-8d4c-bc752f77bea8')\"\n",
              "              title=\"Convert this dataframe to an interactive table.\"\n",
              "              style=\"display:none;\">\n",
              "        \n",
              "  <svg xmlns=\"http://www.w3.org/2000/svg\" height=\"24px\"viewBox=\"0 0 24 24\"\n",
              "       width=\"24px\">\n",
              "    <path d=\"M0 0h24v24H0V0z\" fill=\"none\"/>\n",
              "    <path d=\"M18.56 5.44l.94 2.06.94-2.06 2.06-.94-2.06-.94-.94-2.06-.94 2.06-2.06.94zm-11 1L8.5 8.5l.94-2.06 2.06-.94-2.06-.94L8.5 2.5l-.94 2.06-2.06.94zm10 10l.94 2.06.94-2.06 2.06-.94-2.06-.94-.94-2.06-.94 2.06-2.06.94z\"/><path d=\"M17.41 7.96l-1.37-1.37c-.4-.4-.92-.59-1.43-.59-.52 0-1.04.2-1.43.59L10.3 9.45l-7.72 7.72c-.78.78-.78 2.05 0 2.83L4 21.41c.39.39.9.59 1.41.59.51 0 1.02-.2 1.41-.59l7.78-7.78 2.81-2.81c.8-.78.8-2.07 0-2.86zM5.41 20L4 18.59l7.72-7.72 1.47 1.35L5.41 20z\"/>\n",
              "  </svg>\n",
              "      </button>\n",
              "      \n",
              "  <style>\n",
              "    .colab-df-container {\n",
              "      display:flex;\n",
              "      flex-wrap:wrap;\n",
              "      gap: 12px;\n",
              "    }\n",
              "\n",
              "    .colab-df-convert {\n",
              "      background-color: #E8F0FE;\n",
              "      border: none;\n",
              "      border-radius: 50%;\n",
              "      cursor: pointer;\n",
              "      display: none;\n",
              "      fill: #1967D2;\n",
              "      height: 32px;\n",
              "      padding: 0 0 0 0;\n",
              "      width: 32px;\n",
              "    }\n",
              "\n",
              "    .colab-df-convert:hover {\n",
              "      background-color: #E2EBFA;\n",
              "      box-shadow: 0px 1px 2px rgba(60, 64, 67, 0.3), 0px 1px 3px 1px rgba(60, 64, 67, 0.15);\n",
              "      fill: #174EA6;\n",
              "    }\n",
              "\n",
              "    [theme=dark] .colab-df-convert {\n",
              "      background-color: #3B4455;\n",
              "      fill: #D2E3FC;\n",
              "    }\n",
              "\n",
              "    [theme=dark] .colab-df-convert:hover {\n",
              "      background-color: #434B5C;\n",
              "      box-shadow: 0px 1px 3px 1px rgba(0, 0, 0, 0.15);\n",
              "      filter: drop-shadow(0px 1px 2px rgba(0, 0, 0, 0.3));\n",
              "      fill: #FFFFFF;\n",
              "    }\n",
              "  </style>\n",
              "\n",
              "      <script>\n",
              "        const buttonEl =\n",
              "          document.querySelector('#df-3ef33dc2-8a03-4b6c-8d4c-bc752f77bea8 button.colab-df-convert');\n",
              "        buttonEl.style.display =\n",
              "          google.colab.kernel.accessAllowed ? 'block' : 'none';\n",
              "\n",
              "        async function convertToInteractive(key) {\n",
              "          const element = document.querySelector('#df-3ef33dc2-8a03-4b6c-8d4c-bc752f77bea8');\n",
              "          const dataTable =\n",
              "            await google.colab.kernel.invokeFunction('convertToInteractive',\n",
              "                                                     [key], {});\n",
              "          if (!dataTable) return;\n",
              "\n",
              "          const docLinkHtml = 'Like what you see? Visit the ' +\n",
              "            '<a target=\"_blank\" href=https://colab.research.google.com/notebooks/data_table.ipynb>data table notebook</a>'\n",
              "            + ' to learn more about interactive tables.';\n",
              "          element.innerHTML = '';\n",
              "          dataTable['output_type'] = 'display_data';\n",
              "          await google.colab.output.renderOutput(dataTable, element);\n",
              "          const docLink = document.createElement('div');\n",
              "          docLink.innerHTML = docLinkHtml;\n",
              "          element.appendChild(docLink);\n",
              "        }\n",
              "      </script>\n",
              "    </div>\n",
              "  </div>\n",
              "  "
            ]
          },
          "metadata": {},
          "execution_count": 92
        }
      ]
    },
    {
      "cell_type": "code",
      "source": [
        "df_new = df_selected.groupby(['title'])['post'].count().reset_index()\n",
        "print(df_new)"
      ],
      "metadata": {
        "colab": {
          "base_uri": "https://localhost:8080/"
        },
        "id": "RuH-nI_SWgm3",
        "outputId": "157900d6-ebf2-4114-c94e-263550de13ba"
      },
      "execution_count": null,
      "outputs": [
        {
          "output_type": "stream",
          "name": "stdout",
          "text": [
            "             title  post\n",
            "0  Game of Thrones   687\n",
            "1  Stranger Things  1450\n"
          ]
        }
      ]
    },
    {
      "cell_type": "markdown",
      "source": [
        "My hypothesis was negated, meaning the TV Show Stranger Things received higher discussion posts than Game of Thrones."
      ],
      "metadata": {
        "id": "-jqjD82dXJxc"
      }
    },
    {
      "cell_type": "markdown",
      "source": [
        "### Question 1.2.1 : The 20 most used adjectives in comments per show"
      ],
      "metadata": {
        "id": "yU8Sk1FxXLOT"
      }
    },
    {
      "cell_type": "markdown",
      "source": [
        "Returns the 20 most used adjectives in comments for Games of Thrones"
      ],
      "metadata": {
        "id": "1DKswevVX0Hq"
      }
    },
    {
      "cell_type": "code",
      "source": [
        "# Extract rows for Games of Thrones\n",
        "df_got = df[df.title == 'Game of Thrones']\n",
        "df_got.head()\n",
        "\n",
        "#First, convert the 'tweet' column into strings\n",
        "df_got['post'] = df_got['post'].astype(str)\n",
        "\n",
        "#Function for NLP for separating features (Spacy)\n",
        "def do_nlp(x):\n",
        "    doc = nlp(x)\n",
        "    return doc\n",
        "\n",
        "#Create new column with words separated\n",
        "df_got['post_nlp'] = df_got['post'].apply(lambda x: do_nlp(x))\n",
        "\n",
        "#Function to include only nouns\n",
        "def include_features(x):\n",
        "    include_features = ['ADJ'] #extract the nouns\n",
        "    text = ' '.join([ent.text for ent in x if ent.pos_ in include_features])\n",
        "    return text\n",
        "\n",
        "df_got['features'] = df_got['post_nlp'].apply(lambda x: include_features(x))\n",
        "\n",
        "# Clean up the texts (lowercase, remove symbols, numbers, stopwords etc.)\n",
        "def clean_text(x):\n",
        "    x = x.lower()\n",
        "    x = x.translate(str.maketrans('', '', string.punctuation))\n",
        "    # tokenize\n",
        "    x = nltk.word_tokenize(x)\n",
        "    x = [token for token in x if token not in stop_words]\n",
        "    # lemmatization and pass string back\n",
        "    x = ' '.join([lemmatizer.lemmatize(w) for w in x])\n",
        "    return x\n",
        "\n",
        "stop_words = stopwords.words('english')\n",
        "\n",
        "df_got['features'] = df_got['features'].apply(lambda x: clean_text(x))\n",
        "\n",
        "# Remove empty strings from the features column\n",
        "df_got = df_got[df_got['features'] != '']\n",
        "\n",
        "# Show the 20 most frequent words\n",
        "from collections import Counter\n",
        "tokenized_text = df_got['features'].values\n",
        "word_counts = Counter(tokenized_text)\n",
        "word_counts.most_common()[:20]"
      ],
      "metadata": {
        "colab": {
          "base_uri": "https://localhost:8080/"
        },
        "id": "1OBSB2_cEKdc",
        "outputId": "6f884299-2fbb-430c-9682-24194e89c2cf"
      },
      "execution_count": null,
      "outputs": [
        {
          "output_type": "stream",
          "name": "stderr",
          "text": [
            "<ipython-input-94-abb466bf0769>:6: SettingWithCopyWarning: \n",
            "A value is trying to be set on a copy of a slice from a DataFrame.\n",
            "Try using .loc[row_indexer,col_indexer] = value instead\n",
            "\n",
            "See the caveats in the documentation: https://pandas.pydata.org/pandas-docs/stable/user_guide/indexing.html#returning-a-view-versus-a-copy\n",
            "  df_got['post'] = df_got['post'].astype(str)\n",
            "<ipython-input-94-abb466bf0769>:14: SettingWithCopyWarning: \n",
            "A value is trying to be set on a copy of a slice from a DataFrame.\n",
            "Try using .loc[row_indexer,col_indexer] = value instead\n",
            "\n",
            "See the caveats in the documentation: https://pandas.pydata.org/pandas-docs/stable/user_guide/indexing.html#returning-a-view-versus-a-copy\n",
            "  df_got['post_nlp'] = df_got['post'].apply(lambda x: do_nlp(x))\n",
            "<ipython-input-94-abb466bf0769>:22: SettingWithCopyWarning: \n",
            "A value is trying to be set on a copy of a slice from a DataFrame.\n",
            "Try using .loc[row_indexer,col_indexer] = value instead\n",
            "\n",
            "See the caveats in the documentation: https://pandas.pydata.org/pandas-docs/stable/user_guide/indexing.html#returning-a-view-versus-a-copy\n",
            "  df_got['features'] = df_got['post_nlp'].apply(lambda x: include_features(x))\n",
            "<ipython-input-94-abb466bf0769>:38: SettingWithCopyWarning: \n",
            "A value is trying to be set on a copy of a slice from a DataFrame.\n",
            "Try using .loc[row_indexer,col_indexer] = value instead\n",
            "\n",
            "See the caveats in the documentation: https://pandas.pydata.org/pandas-docs/stable/user_guide/indexing.html#returning-a-view-versus-a-copy\n",
            "  df_got['features'] = df_got['features'].apply(lambda x: clean_text(x))\n"
          ]
        },
        {
          "output_type": "execute_result",
          "data": {
            "text/plain": [
              "[('good', 152),\n",
              " ('dead', 101),\n",
              " ('last', 97),\n",
              " ('sure', 82),\n",
              " ('little', 76),\n",
              " ('best', 71),\n",
              " ('next', 71),\n",
              " ('first', 63),\n",
              " ('much', 62),\n",
              " ('right', 60),\n",
              " ('whole', 59),\n",
              " ('fucking', 59),\n",
              " ('bad', 50),\n",
              " ('great', 48),\n",
              " ('better', 45),\n",
              " ('happy', 44),\n",
              " ('true', 44),\n",
              " ('real', 42),\n",
              " ('old', 40),\n",
              " ('new', 39)]"
            ]
          },
          "metadata": {},
          "execution_count": 94
        }
      ]
    },
    {
      "cell_type": "markdown",
      "source": [
        "Returns the 20 most used adjectives in comments for Stranger Things"
      ],
      "metadata": {
        "id": "vI1f9-zqXv6_"
      }
    },
    {
      "cell_type": "code",
      "source": [
        "# Extract rows for Games of Thrones\n",
        "df_st = df[df.title == 'Stranger Things']\n",
        "df_st.head()\n",
        "\n",
        "#First, convert the 'tweet' column into strings\n",
        "df_st['post'] = df_st['post'].astype(str)\n",
        "\n",
        "#Function for NLP for separating features (Spacy)\n",
        "def do_nlp(x):\n",
        "    doc = nlp(x)\n",
        "    return doc\n",
        "\n",
        "#Create new column with words separated\n",
        "df_st['post_nlp'] = df_st['post'].apply(lambda x: do_nlp(x))\n",
        "\n",
        "#Function to include only nouns\n",
        "def include_features(x):\n",
        "    include_features = ['ADJ'] #extract the nouns\n",
        "    text = ' '.join([ent.text for ent in x if ent.pos_ in include_features])\n",
        "    return text\n",
        "\n",
        "df_st['features'] = df_st['post_nlp'].apply(lambda x: include_features(x))\n",
        "\n",
        "# Clean up the texts (lowercase, remove symbols, numbers, stopwords etc.)\n",
        "def clean_text(x):\n",
        "    x = x.lower()\n",
        "    x = x.translate(str.maketrans('', '', string.punctuation))\n",
        "    # tokenize\n",
        "    x = nltk.word_tokenize(x)\n",
        "    x = [token for token in x if token not in stop_words]\n",
        "    # lemmatization and pass string back\n",
        "    x = ' '.join([lemmatizer.lemmatize(w) for w in x])\n",
        "    return x\n",
        "\n",
        "df_st['features'] = df_st['features'].apply(lambda x: clean_text(x))\n",
        "\n",
        "# Remove empty strings from the features column\n",
        "df_st = df_st[df_st['features'] != '']\n",
        "\n",
        "# Show the 20 most frequent words\n",
        "from collections import Counter\n",
        "tokenized_text = df_st['features'].values\n",
        "word_counts = Counter(tokenized_text)\n",
        "word_counts.most_common()[:20]"
      ],
      "metadata": {
        "colab": {
          "base_uri": "https://localhost:8080/"
        },
        "id": "Bhnlew7RXetH",
        "outputId": "87b062ed-f161-45fe-b5ce-0c5873a16522"
      },
      "execution_count": null,
      "outputs": [
        {
          "output_type": "stream",
          "name": "stderr",
          "text": [
            "<ipython-input-95-305f727f3d07>:6: SettingWithCopyWarning: \n",
            "A value is trying to be set on a copy of a slice from a DataFrame.\n",
            "Try using .loc[row_indexer,col_indexer] = value instead\n",
            "\n",
            "See the caveats in the documentation: https://pandas.pydata.org/pandas-docs/stable/user_guide/indexing.html#returning-a-view-versus-a-copy\n",
            "  df_st['post'] = df_st['post'].astype(str)\n",
            "<ipython-input-95-305f727f3d07>:14: SettingWithCopyWarning: \n",
            "A value is trying to be set on a copy of a slice from a DataFrame.\n",
            "Try using .loc[row_indexer,col_indexer] = value instead\n",
            "\n",
            "See the caveats in the documentation: https://pandas.pydata.org/pandas-docs/stable/user_guide/indexing.html#returning-a-view-versus-a-copy\n",
            "  df_st['post_nlp'] = df_st['post'].apply(lambda x: do_nlp(x))\n",
            "<ipython-input-95-305f727f3d07>:22: SettingWithCopyWarning: \n",
            "A value is trying to be set on a copy of a slice from a DataFrame.\n",
            "Try using .loc[row_indexer,col_indexer] = value instead\n",
            "\n",
            "See the caveats in the documentation: https://pandas.pydata.org/pandas-docs/stable/user_guide/indexing.html#returning-a-view-versus-a-copy\n",
            "  df_st['features'] = df_st['post_nlp'].apply(lambda x: include_features(x))\n",
            "<ipython-input-95-305f727f3d07>:35: SettingWithCopyWarning: \n",
            "A value is trying to be set on a copy of a slice from a DataFrame.\n",
            "Try using .loc[row_indexer,col_indexer] = value instead\n",
            "\n",
            "See the caveats in the documentation: https://pandas.pydata.org/pandas-docs/stable/user_guide/indexing.html#returning-a-view-versus-a-copy\n",
            "  df_st['features'] = df_st['features'].apply(lambda x: clean_text(x))\n"
          ]
        },
        {
          "output_type": "execute_result",
          "data": {
            "text/plain": [
              "[('good', 32),\n",
              " ('real', 21),\n",
              " ('bad', 19),\n",
              " ('great', 17),\n",
              " ('last', 16),\n",
              " ('first', 16),\n",
              " ('whole', 15),\n",
              " ('poor', 14),\n",
              " ('little', 14),\n",
              " ('right', 13),\n",
              " ('better', 11),\n",
              " ('best', 11),\n",
              " ('dead', 10),\n",
              " ('next', 10),\n",
              " ('old', 10),\n",
              " ('new', 9),\n",
              " ('sure', 9),\n",
              " ('perfect', 8),\n",
              " ('amazing', 8),\n",
              " ('fair', 7)]"
            ]
          },
          "metadata": {},
          "execution_count": 95
        }
      ]
    },
    {
      "cell_type": "markdown",
      "source": [
        "Question 1.2.3 : Retrieve the most distinct words per show."
      ],
      "metadata": {
        "id": "KHkS9gyWYm7a"
      }
    },
    {
      "cell_type": "code",
      "source": [],
      "metadata": {
        "id": "aC8rshwvX6Ki"
      },
      "execution_count": null,
      "outputs": []
    },
    {
      "cell_type": "markdown",
      "metadata": {
        "id": "xPQd4smlBiOg"
      },
      "source": [
        "# Task Two (40 points)"
      ]
    },
    {
      "cell_type": "markdown",
      "metadata": {
        "id": "bik0OJjbBwi0"
      },
      "source": [
        "The file Q2_tech_tweets.csv contains 300.000 tweets that mention either “China” or “India” in combination with the term “tech”, posted between 2010 and 2021. The data include the tweets, usernames, users mentioned in a tweet, date of posting and a range of interaction metrics (e.g., likes, replies). Your task is to explore how “tech” is framed differently in the Indian and Chinese contexts.\n",
        "\n",
        "PLEASE NOTE: The file Q2_tech_tweets.csv (also .p) is about 700 MB."
      ]
    },
    {
      "cell_type": "markdown",
      "metadata": {
        "id": "aN6rQGv-cvu8"
      },
      "source": [
        "The previous two sections (**TF-IDF & K-Means Clustering China** and **TF-IDF & K-Means Clustering India**) has analyzed tech tweets respectively in Chinese and Indian contexts using. The research goal was to find difference in terms of tech framing in both countries. The first difference is in the number topics clusters. In the Chinese context,"
      ]
    },
    {
      "cell_type": "code",
      "execution_count": null,
      "metadata": {
        "id": "PcZd_YjBMAT6"
      },
      "outputs": [],
      "source": [
        "# Get data\n",
        "path = \"/Q2_tech_tweets.csv\"\n",
        "df_tweet = pd.read_csv(path)\n",
        "df_tweet.head()"
      ]
    },
    {
      "cell_type": "markdown",
      "metadata": {
        "id": "quRZgPevt0mm"
      },
      "source": [
        "## Quesiton 2.1"
      ]
    },
    {
      "cell_type": "markdown",
      "metadata": {
        "id": "SgmLr4wk3iVg"
      },
      "source": [
        "**With reference to the learning materials from this course, explain how \"framing\" is defined and operationalized in your analysis.**\n",
        "\n",
        "\n",
        "Throughout this course, we have seen multiple interpretations of \"framing\". Having studied psychology a bit, I find the framing definition in lecture 2 slides the most intuitive. The slides refers to frames as the \"contexts of interpretation\" (Nguyen, 2022). This viewpoint fits well in this question, as it allows me to examine different contexts (e.g., China and India) and how tech is interpreted in these different contexts. Based on this definition, I defined my reserach objective as to examine how tech is interpreted differently in tweets that mentions China or India. Operationalizing this objective requires measurement validy (Baden et al., 2022, as cited in Liu & Zhang, 2012; Stalpouskaya, 2020, p. 14). To open up, I need to validly measure what I aim to measure. For this, I used K-Means Clustering and LDA models. Both models involve identifying specific keywords that are associated with a particular frames. Here, they identify what other concepts with which the word \"tech\" occur together in Chinese and Indian tweets. Assuming the framing of a concept is higly dependent on neighbour (context) words, these methods could prove quite valueable in exploring the framing of “tech” in the Indian and Chinese contexts."
      ]
    },
    {
      "cell_type": "markdown",
      "metadata": {
        "id": "7M7VllyUN8Pu"
      },
      "source": [
        "## Question 2.2"
      ]
    },
    {
      "cell_type": "markdown",
      "metadata": {
        "id": "zynhhmQmN_cv"
      },
      "source": [
        "Conducting a framing analysis with at least two different methods for (unsupervised) text analysis. Explain briefly how each method connects to **your overall research goals**. Ensure that you indicate how you set the key parameters for each method that you apply and justify your choices via commenting."
      ]
    },
    {
      "cell_type": "markdown",
      "metadata": {
        "id": "95BJpx3rTa-4"
      },
      "source": [
        "### TF-IDF & K-Means Clustering China"
      ]
    },
    {
      "cell_type": "markdown",
      "metadata": {
        "id": "29AqyG1qYGl6"
      },
      "source": [
        "This section use tf-idf & k-means to analyze the tweets that mention China. Recall the overall research goal was to find how tech is discussed (framed) in Chinese and Indian seettings. TF-IDF & K-Means Clustering identifies helps us answer that questions by clustering topics which is definied as repeated co-occurance of terms (Nguyen, 2022). Condering that all the tweets are about tech, this methods allows us to find topics around the tech frame in Chinese context."
      ]
    },
    {
      "cell_type": "code",
      "execution_count": null,
      "metadata": {
        "id": "mr3K4OWAYVHZ",
        "colab": {
          "base_uri": "https://localhost:8080/"
        },
        "outputId": "496c167f-c1bd-4e28-d7ca-7a84bf3855f3"
      },
      "outputs": [
        {
          "output_type": "stream",
          "name": "stderr",
          "text": [
            "<ipython-input-97-d3e8ff819984>:3: UserWarning: This pattern has match groups. To actually get the groups, use str.extract.\n",
            "  china_df = df_tweet[df_tweet['tweet'].str.contains(r'\\b(china|chinese)\\b', case=False)]\n"
          ]
        },
        {
          "output_type": "stream",
          "name": "stdout",
          "text": [
            "Tweets containing the word 'China': 134333\n"
          ]
        },
        {
          "output_type": "stream",
          "name": "stderr",
          "text": [
            "<ipython-input-97-d3e8ff819984>:10: UserWarning: This pattern has match groups. To actually get the groups, use str.extract.\n",
            "  china_df = china_df[~china_df['tweet'].str.contains(r'\\b(india|indian)\\b', case=False)]\n"
          ]
        },
        {
          "output_type": "stream",
          "name": "stdout",
          "text": [
            "Tweets containing only the word 'China': 124042\n"
          ]
        }
      ],
      "source": [
        "# Only keep the tweets that contains the word \"China\"\n",
        "# The code takes into account different variations of the word and case sensitivity.\n",
        "china_df = df_tweet[df_tweet['tweet'].str.contains(r'\\b(china|chinese)\\b', case=False)]\n",
        "\n",
        "# Print the tweets that contain the word \"China\" and its variations.\n",
        "print(\"Tweets containing the word 'China':\", len(china_df))\n",
        "\n",
        "# Make sure that the tweets contains only the word \"China\"\n",
        "# That's because the question implies that we are only interested in differences between how tech is framed in the countries.\n",
        "china_df = china_df[~china_df['tweet'].str.contains(r'\\b(india|indian)\\b', case=False)]\n",
        "\n",
        "# Print the tweets that contain only the word \"China\" and its variations.\n",
        "print(\"Tweets containing only the word 'China':\", len(china_df))"
      ]
    },
    {
      "cell_type": "code",
      "execution_count": null,
      "metadata": {
        "id": "RS79L0VOlZQB"
      },
      "outputs": [],
      "source": [
        "# There are more 120,000 tweets that mention China. It takes a long time to process this data.\n",
        "# Even though I used Google Colab for this assignment, it failed a couple times to complete pre-prossing and other tasks.\n",
        "# Therefore, I decided to take a sample from the data and proceed with that data.\n",
        "# Select 30,000 random rows from the data frame, with a fixed random seed. 30,000 is a random choice but should be representative.\n",
        "china_sample = china_df.sample(30000, random_state=42)"
      ]
    },
    {
      "cell_type": "code",
      "execution_count": null,
      "metadata": {
        "id": "9IEeSDljMSSc"
      },
      "outputs": [],
      "source": [
        "#First, convert the 'tweet' column into strings\n",
        "china_sample['tweet'] = china_sample['tweet'].astype(str)"
      ]
    },
    {
      "cell_type": "code",
      "execution_count": null,
      "metadata": {
        "id": "vwIgx0qPYcIX",
        "colab": {
          "base_uri": "https://localhost:8080/",
          "height": 574
        },
        "outputId": "cdbdd4d2-ab4c-43f9-eaf5-8e4ffe12ca2d"
      },
      "outputs": [
        {
          "output_type": "execute_result",
          "data": {
            "text/plain": [
              "        Unnamed: 0  author id        username                 created_at  geo  \\\n",
              "218013      839746   81043084    vegabond_say  2017-11-20 17:47:37+00:00  NaN   \n",
              "116774      506203  249594827          cel_rf  2015-02-25 13:38:07+00:00  NaN   \n",
              "108124      897285   34983319  FinTechLabAPAC  2018-04-26 16:50:49+00:00  NaN   \n",
              "59387        80541  196026134   VCWorldSummit  2011-07-12 14:28:01+00:00  NaN   \n",
              "92109      1185275  561893931    BhanukumarDr  2020-08-29 06:16:47+00:00  NaN   \n",
              "\n",
              "                         id lang  like_count  quote_count  reply_count  \\\n",
              "218013   932666756514091010   en           0            0            0   \n",
              "116774   570578491780894720   en           0            0            0   \n",
              "108124   989547356730331142   en           0            0            0   \n",
              "59387     90789515601514496   en           0            0            0   \n",
              "92109   1299591810885484544   en           0            0            0   \n",
              "\n",
              "        retweet_count              source  \\\n",
              "218013              1            TIFAC_RT   \n",
              "116774             17  Twitter for iPhone   \n",
              "108124             88  Twitter Web Client   \n",
              "59387               0           TweetDeck   \n",
              "92109               2  Robinheed Upgraded   \n",
              "\n",
              "                                                    tweet  in_reply_to  \\\n",
              "218013  RT @TIFAC_India: Chinese robot becomes world's...          NaN   \n",
              "116774  RT @ReutersBiz: Exclusive: China drops leading...          NaN   \n",
              "108124  RT @MPI_IS: Europe´s leading #AI and #MachineL...          NaN   \n",
              "59387   MDCE - Medical Care Tech, Inc. focuses on brin...          NaN   \n",
              "92109   RT @iceboxdesigns: Podcast is social: How Chin...          NaN   \n",
              "\n",
              "                                                    users  followers  \\\n",
              "218013  ['PowerLedger_io', 'tech_mahindra', 'DavdMartn...        665   \n",
              "116774  ['ChineseBrains', 'Reuters', 'AlertNet', 'Reut...         64   \n",
              "108124  ['CNN', 'cnni', 'cccalum', 'CNN', 'gwbstr', 'm...       1788   \n",
              "59387   ['fantomaster', 'fantomaster', 'mediator9', 'a...      26794   \n",
              "92109   ['srivatsayb', 'srivatsayb', 'srivatsayb', 'WS...       1636   \n",
              "\n",
              "        tweet count                                           text_nlp  \n",
              "218013        32235  (RT, @TIFAC_India, :, Chinese, robot, becomes,...  \n",
              "116774        56152  (RT, @ReutersBiz, :, Exclusive, :, China, drop...  \n",
              "108124          819  (RT, @MPI_IS, :, Europe´s, leading, #, AI, and...  \n",
              "59387         96909  (MDCE, -, Medical, Care, Tech, ,, Inc., focuse...  \n",
              "92109         69524  (RT, @iceboxdesigns, :, Podcast, is, social, :...  "
            ],
            "text/html": [
              "\n",
              "  <div id=\"df-28c03844-1296-4a4e-80aa-5b96522d029c\">\n",
              "    <div class=\"colab-df-container\">\n",
              "      <div>\n",
              "<style scoped>\n",
              "    .dataframe tbody tr th:only-of-type {\n",
              "        vertical-align: middle;\n",
              "    }\n",
              "\n",
              "    .dataframe tbody tr th {\n",
              "        vertical-align: top;\n",
              "    }\n",
              "\n",
              "    .dataframe thead th {\n",
              "        text-align: right;\n",
              "    }\n",
              "</style>\n",
              "<table border=\"1\" class=\"dataframe\">\n",
              "  <thead>\n",
              "    <tr style=\"text-align: right;\">\n",
              "      <th></th>\n",
              "      <th>Unnamed: 0</th>\n",
              "      <th>author id</th>\n",
              "      <th>username</th>\n",
              "      <th>created_at</th>\n",
              "      <th>geo</th>\n",
              "      <th>id</th>\n",
              "      <th>lang</th>\n",
              "      <th>like_count</th>\n",
              "      <th>quote_count</th>\n",
              "      <th>reply_count</th>\n",
              "      <th>retweet_count</th>\n",
              "      <th>source</th>\n",
              "      <th>tweet</th>\n",
              "      <th>in_reply_to</th>\n",
              "      <th>users</th>\n",
              "      <th>followers</th>\n",
              "      <th>tweet count</th>\n",
              "      <th>text_nlp</th>\n",
              "    </tr>\n",
              "  </thead>\n",
              "  <tbody>\n",
              "    <tr>\n",
              "      <th>218013</th>\n",
              "      <td>839746</td>\n",
              "      <td>81043084</td>\n",
              "      <td>vegabond_say</td>\n",
              "      <td>2017-11-20 17:47:37+00:00</td>\n",
              "      <td>NaN</td>\n",
              "      <td>932666756514091010</td>\n",
              "      <td>en</td>\n",
              "      <td>0</td>\n",
              "      <td>0</td>\n",
              "      <td>0</td>\n",
              "      <td>1</td>\n",
              "      <td>TIFAC_RT</td>\n",
              "      <td>RT @TIFAC_India: Chinese robot becomes world's...</td>\n",
              "      <td>NaN</td>\n",
              "      <td>['PowerLedger_io', 'tech_mahindra', 'DavdMartn...</td>\n",
              "      <td>665</td>\n",
              "      <td>32235</td>\n",
              "      <td>(RT, @TIFAC_India, :, Chinese, robot, becomes,...</td>\n",
              "    </tr>\n",
              "    <tr>\n",
              "      <th>116774</th>\n",
              "      <td>506203</td>\n",
              "      <td>249594827</td>\n",
              "      <td>cel_rf</td>\n",
              "      <td>2015-02-25 13:38:07+00:00</td>\n",
              "      <td>NaN</td>\n",
              "      <td>570578491780894720</td>\n",
              "      <td>en</td>\n",
              "      <td>0</td>\n",
              "      <td>0</td>\n",
              "      <td>0</td>\n",
              "      <td>17</td>\n",
              "      <td>Twitter for iPhone</td>\n",
              "      <td>RT @ReutersBiz: Exclusive: China drops leading...</td>\n",
              "      <td>NaN</td>\n",
              "      <td>['ChineseBrains', 'Reuters', 'AlertNet', 'Reut...</td>\n",
              "      <td>64</td>\n",
              "      <td>56152</td>\n",
              "      <td>(RT, @ReutersBiz, :, Exclusive, :, China, drop...</td>\n",
              "    </tr>\n",
              "    <tr>\n",
              "      <th>108124</th>\n",
              "      <td>897285</td>\n",
              "      <td>34983319</td>\n",
              "      <td>FinTechLabAPAC</td>\n",
              "      <td>2018-04-26 16:50:49+00:00</td>\n",
              "      <td>NaN</td>\n",
              "      <td>989547356730331142</td>\n",
              "      <td>en</td>\n",
              "      <td>0</td>\n",
              "      <td>0</td>\n",
              "      <td>0</td>\n",
              "      <td>88</td>\n",
              "      <td>Twitter Web Client</td>\n",
              "      <td>RT @MPI_IS: Europe´s leading #AI and #MachineL...</td>\n",
              "      <td>NaN</td>\n",
              "      <td>['CNN', 'cnni', 'cccalum', 'CNN', 'gwbstr', 'm...</td>\n",
              "      <td>1788</td>\n",
              "      <td>819</td>\n",
              "      <td>(RT, @MPI_IS, :, Europe´s, leading, #, AI, and...</td>\n",
              "    </tr>\n",
              "    <tr>\n",
              "      <th>59387</th>\n",
              "      <td>80541</td>\n",
              "      <td>196026134</td>\n",
              "      <td>VCWorldSummit</td>\n",
              "      <td>2011-07-12 14:28:01+00:00</td>\n",
              "      <td>NaN</td>\n",
              "      <td>90789515601514496</td>\n",
              "      <td>en</td>\n",
              "      <td>0</td>\n",
              "      <td>0</td>\n",
              "      <td>0</td>\n",
              "      <td>0</td>\n",
              "      <td>TweetDeck</td>\n",
              "      <td>MDCE - Medical Care Tech, Inc. focuses on brin...</td>\n",
              "      <td>NaN</td>\n",
              "      <td>['fantomaster', 'fantomaster', 'mediator9', 'a...</td>\n",
              "      <td>26794</td>\n",
              "      <td>96909</td>\n",
              "      <td>(MDCE, -, Medical, Care, Tech, ,, Inc., focuse...</td>\n",
              "    </tr>\n",
              "    <tr>\n",
              "      <th>92109</th>\n",
              "      <td>1185275</td>\n",
              "      <td>561893931</td>\n",
              "      <td>BhanukumarDr</td>\n",
              "      <td>2020-08-29 06:16:47+00:00</td>\n",
              "      <td>NaN</td>\n",
              "      <td>1299591810885484544</td>\n",
              "      <td>en</td>\n",
              "      <td>0</td>\n",
              "      <td>0</td>\n",
              "      <td>0</td>\n",
              "      <td>2</td>\n",
              "      <td>Robinheed Upgraded</td>\n",
              "      <td>RT @iceboxdesigns: Podcast is social: How Chin...</td>\n",
              "      <td>NaN</td>\n",
              "      <td>['srivatsayb', 'srivatsayb', 'srivatsayb', 'WS...</td>\n",
              "      <td>1636</td>\n",
              "      <td>69524</td>\n",
              "      <td>(RT, @iceboxdesigns, :, Podcast, is, social, :...</td>\n",
              "    </tr>\n",
              "  </tbody>\n",
              "</table>\n",
              "</div>\n",
              "      <button class=\"colab-df-convert\" onclick=\"convertToInteractive('df-28c03844-1296-4a4e-80aa-5b96522d029c')\"\n",
              "              title=\"Convert this dataframe to an interactive table.\"\n",
              "              style=\"display:none;\">\n",
              "        \n",
              "  <svg xmlns=\"http://www.w3.org/2000/svg\" height=\"24px\"viewBox=\"0 0 24 24\"\n",
              "       width=\"24px\">\n",
              "    <path d=\"M0 0h24v24H0V0z\" fill=\"none\"/>\n",
              "    <path d=\"M18.56 5.44l.94 2.06.94-2.06 2.06-.94-2.06-.94-.94-2.06-.94 2.06-2.06.94zm-11 1L8.5 8.5l.94-2.06 2.06-.94-2.06-.94L8.5 2.5l-.94 2.06-2.06.94zm10 10l.94 2.06.94-2.06 2.06-.94-2.06-.94-.94-2.06-.94 2.06-2.06.94z\"/><path d=\"M17.41 7.96l-1.37-1.37c-.4-.4-.92-.59-1.43-.59-.52 0-1.04.2-1.43.59L10.3 9.45l-7.72 7.72c-.78.78-.78 2.05 0 2.83L4 21.41c.39.39.9.59 1.41.59.51 0 1.02-.2 1.41-.59l7.78-7.78 2.81-2.81c.8-.78.8-2.07 0-2.86zM5.41 20L4 18.59l7.72-7.72 1.47 1.35L5.41 20z\"/>\n",
              "  </svg>\n",
              "      </button>\n",
              "      \n",
              "  <style>\n",
              "    .colab-df-container {\n",
              "      display:flex;\n",
              "      flex-wrap:wrap;\n",
              "      gap: 12px;\n",
              "    }\n",
              "\n",
              "    .colab-df-convert {\n",
              "      background-color: #E8F0FE;\n",
              "      border: none;\n",
              "      border-radius: 50%;\n",
              "      cursor: pointer;\n",
              "      display: none;\n",
              "      fill: #1967D2;\n",
              "      height: 32px;\n",
              "      padding: 0 0 0 0;\n",
              "      width: 32px;\n",
              "    }\n",
              "\n",
              "    .colab-df-convert:hover {\n",
              "      background-color: #E2EBFA;\n",
              "      box-shadow: 0px 1px 2px rgba(60, 64, 67, 0.3), 0px 1px 3px 1px rgba(60, 64, 67, 0.15);\n",
              "      fill: #174EA6;\n",
              "    }\n",
              "\n",
              "    [theme=dark] .colab-df-convert {\n",
              "      background-color: #3B4455;\n",
              "      fill: #D2E3FC;\n",
              "    }\n",
              "\n",
              "    [theme=dark] .colab-df-convert:hover {\n",
              "      background-color: #434B5C;\n",
              "      box-shadow: 0px 1px 3px 1px rgba(0, 0, 0, 0.15);\n",
              "      filter: drop-shadow(0px 1px 2px rgba(0, 0, 0, 0.3));\n",
              "      fill: #FFFFFF;\n",
              "    }\n",
              "  </style>\n",
              "\n",
              "      <script>\n",
              "        const buttonEl =\n",
              "          document.querySelector('#df-28c03844-1296-4a4e-80aa-5b96522d029c button.colab-df-convert');\n",
              "        buttonEl.style.display =\n",
              "          google.colab.kernel.accessAllowed ? 'block' : 'none';\n",
              "\n",
              "        async function convertToInteractive(key) {\n",
              "          const element = document.querySelector('#df-28c03844-1296-4a4e-80aa-5b96522d029c');\n",
              "          const dataTable =\n",
              "            await google.colab.kernel.invokeFunction('convertToInteractive',\n",
              "                                                     [key], {});\n",
              "          if (!dataTable) return;\n",
              "\n",
              "          const docLinkHtml = 'Like what you see? Visit the ' +\n",
              "            '<a target=\"_blank\" href=https://colab.research.google.com/notebooks/data_table.ipynb>data table notebook</a>'\n",
              "            + ' to learn more about interactive tables.';\n",
              "          element.innerHTML = '';\n",
              "          dataTable['output_type'] = 'display_data';\n",
              "          await google.colab.output.renderOutput(dataTable, element);\n",
              "          const docLink = document.createElement('div');\n",
              "          docLink.innerHTML = docLinkHtml;\n",
              "          element.appendChild(docLink);\n",
              "        }\n",
              "      </script>\n",
              "    </div>\n",
              "  </div>\n",
              "  "
            ]
          },
          "metadata": {},
          "execution_count": 100
        }
      ],
      "source": [
        "#Function for NLP for separating features (Spacy)\n",
        "def do_nlp(x):\n",
        "    doc = nlp(x)\n",
        "    return doc\n",
        "\n",
        "#Create new column with words separated\n",
        "china_sample['text_nlp'] = china_sample['tweet'].apply(lambda x: do_nlp(x))\n",
        "china_sample.head()"
      ]
    },
    {
      "cell_type": "code",
      "execution_count": null,
      "metadata": {
        "id": "eQR44F1YYdSh"
      },
      "outputs": [],
      "source": [
        "#Function to include text \"features\"\n",
        "def include_features(x):\n",
        "    include_features = ['VERB', 'NOUN', 'ADJ'] #In this context nouns, adjectives and verbs will probably be most informative. Adverbs and pronouns may not be as relevant for this task. Additioanally, I have computational limits.\n",
        "    text = ' '.join([ent.text for ent in x if ent.pos_ in include_features])\n",
        "    return text\n",
        "\n",
        "china_sample['features'] = china_sample['text_nlp'].apply(lambda x: include_features(x))"
      ]
    },
    {
      "cell_type": "code",
      "execution_count": null,
      "metadata": {
        "colab": {
          "base_uri": "https://localhost:8080/"
        },
        "id": "3nudS9xtYx-Z",
        "outputId": "e68621d7-5b88-4281-b103-4f9c2e5db28a"
      },
      "outputs": [
        {
          "output_type": "execute_result",
          "data": {
            "text/plain": [
              "218013    Chinese robot becomes world first machine pass...\n",
              "116774    @ReutersBiz drops leading technology brands st...\n",
              "108124         leading researchers want form hub compete op\n",
              "59387     focuses bringing wellness children future gene...\n",
              "92109     @iceboxdesigns social makes audio interactive ...\n",
              "Name: features, dtype: object"
            ]
          },
          "metadata": {},
          "execution_count": 29
        }
      ],
      "source": [
        "china_sample['features'].head(5)"
      ]
    },
    {
      "cell_type": "code",
      "execution_count": null,
      "metadata": {
        "id": "KYsVNv02Yx4c"
      },
      "outputs": [],
      "source": [
        "# Function to clean up the texts (lowercase, remove symbols, numbers, stopwords etc.)\n",
        "def clean_text(x):\n",
        "    x = x.lower()\n",
        "    x: emoji.demojize(x) #Remove emojis from the tweets\n",
        "    re.sub(r'(http|https)://\\S+|@\\w+|\\d+|#|RT', '',x) #remove URLs, @-mentions, numbers, # symbol and the abbreviation \"RT\"\n",
        "    x = x.translate(str.maketrans('', '', string.punctuation)) # Remove punctuations\n",
        "    # tokenize\n",
        "    x = nltk.word_tokenize(x)\n",
        "    x = [token for token in x if token not in stop_words]\n",
        "    # lemmatization and pass string back\n",
        "    x = ' '.join([lemmatizer.lemmatize(w) for w in x])\n",
        "    return x\n",
        "\n",
        "stop_words = stopwords.words('english')\n",
        "new_sw = ['ai', 'artificial intelligence', 'tech', 'technology'] #Remove these concepts as they will be common in both China and India tweets and thus, not distinguishing.\n",
        "stop_words.extend(new_sw)\n",
        "\n",
        "china_sample['features'] = china_sample['features'].apply(lambda x: clean_text(x))"
      ]
    },
    {
      "cell_type": "code",
      "execution_count": null,
      "metadata": {
        "id": "_E8kxyC7nxo0"
      },
      "outputs": [],
      "source": [
        "china_sample['features'].head(5)"
      ]
    },
    {
      "cell_type": "code",
      "execution_count": null,
      "metadata": {
        "id": "I0o9kn1cfi21",
        "colab": {
          "base_uri": "https://localhost:8080/"
        },
        "outputId": "08d38758-5e17-4646-9ebc-2bee3f90e29f"
      },
      "outputs": [
        {
          "output_type": "stream",
          "name": "stderr",
          "text": [
            "/usr/local/lib/python3.8/dist-packages/sklearn/utils/deprecation.py:87: FutureWarning: Function get_feature_names is deprecated; get_feature_names is deprecated in 1.0 and will be removed in 1.2. Please use get_feature_names_out instead.\n",
            "  warnings.warn(msg, category=FutureWarning)\n"
          ]
        }
      ],
      "source": [
        "# Vectorize and calculate TF-IDF!\n",
        "vectorizer = TfidfVectorizer(min_df=20, max_df=0.4) #Ignore the terms that occur in either too few or too many tweets, as they do not tend to be differentiating.\n",
        "X = vectorizer.fit_transform(china_sample['features'])\n",
        "tf_idf = pd.DataFrame(data = X.toarray(), columns=vectorizer.get_feature_names())"
      ]
    },
    {
      "cell_type": "code",
      "execution_count": null,
      "metadata": {
        "id": "9DlFS1zsg8w_",
        "colab": {
          "base_uri": "https://localhost:8080/"
        },
        "outputId": "6d93fc29-7dd2-4ad8-8a28-dfbee0456c8a"
      },
      "outputs": [
        {
          "output_type": "stream",
          "name": "stdout",
          "text": [
            "Looking in indexes: https://pypi.org/simple, https://us-python.pkg.dev/colab-wheels/public/simple/\n",
            "Collecting kneed\n",
            "  Downloading kneed-0.8.1-py2.py3-none-any.whl (10 kB)\n",
            "Requirement already satisfied: numpy>=1.14.2 in /usr/local/lib/python3.8/dist-packages (from kneed) (1.21.6)\n",
            "Requirement already satisfied: scipy>=1.0.0 in /usr/local/lib/python3.8/dist-packages (from kneed) (1.7.3)\n",
            "Installing collected packages: kneed\n",
            "Successfully installed kneed-0.8.1\n"
          ]
        }
      ],
      "source": [
        "!pip install kneed #not available colab\n",
        "from kneed import KneeLocator"
      ]
    },
    {
      "cell_type": "code",
      "execution_count": null,
      "metadata": {
        "colab": {
          "base_uri": "https://localhost:8080/"
        },
        "id": "a6HcHPY_hf3I",
        "outputId": "ed184d44-efba-470b-97ca-e1895027d74e"
      },
      "outputs": [
        {
          "output_type": "stream",
          "name": "stdout",
          "text": [
            "10\n"
          ]
        }
      ],
      "source": [
        "# # Calculate KMeans and find the optimal number of clusters. I decided to look at max 20 clusters as it does not make sense to find more clusters, considering our interest in a signle term 'tech'.\n",
        "inertia = []\n",
        "\n",
        "K = range(1, 20)\n",
        "for k in K:\n",
        "    kmeanModel = KMeans(n_clusters=k,random_state=0)\n",
        "    kmeanModel.fit(tf_idf)\n",
        "    inertia.append(kmeanModel.inertia_)\n",
        "\n",
        "kn = KneeLocator(K, inertia, curve='convex', direction='decreasing')\n",
        "print(kn.knee)"
      ]
    },
    {
      "cell_type": "code",
      "execution_count": null,
      "metadata": {
        "colab": {
          "base_uri": "https://localhost:8080/",
          "height": 351
        },
        "id": "zR57CafAh0Si",
        "outputId": "cdbcc616-b836-4cc6-8869-b0268c064b88"
      },
      "outputs": [
        {
          "output_type": "execute_result",
          "data": {
            "text/plain": [
              "<matplotlib.collections.LineCollection at 0x7f5bda324f70>"
            ]
          },
          "metadata": {},
          "execution_count": 36
        },
        {
          "output_type": "display_data",
          "data": {
            "text/plain": [
              "<Figure size 720x360 with 1 Axes>"
            ],
            "image/png": "[encoded data removed]"
          },
          "metadata": {
            "needs_background": "light"
          }
        }
      ],
      "source": [
        "# Create a line plot.\n",
        "import matplotlib.pyplot as plt\n",
        "plt.figure(figsize=(10,5))\n",
        "\n",
        "plt.xlabel('number of clusters k')\n",
        "plt.ylabel('Sum of squared distances')\n",
        "plt.xticks( range(1, 20))\n",
        "plt.plot(K, inertia, 'bx-')\n",
        "plt.vlines(kn.knee, plt.ylim()[0], plt.ylim()[1], linestyles='dashed')"
      ]
    },
    {
      "cell_type": "code",
      "execution_count": null,
      "metadata": {
        "id": "8E5pfGlpiGPM"
      },
      "outputs": [],
      "source": [
        "#Enter recommended number of clusters and add k_means as a new column in the dataframe.\n",
        "# To not bluntly belive in the recommended cluster size, I hoped to try other cluster sizes as well but due to computational and time limitations, I had to skip this step.\n",
        "clusters = 6\n",
        "kmeanModel = KMeans(n_clusters=clusters, init='k-means++', max_iter=3000, random_state=0)\n",
        "mod = kmeanModel.fit_transform(tf_idf)\n",
        "china_sample['k_means'] = kmeanModel.predict(tf_idf)"
      ]
    },
    {
      "cell_type": "code",
      "execution_count": null,
      "metadata": {
        "colab": {
          "base_uri": "https://localhost:8080/"
        },
        "id": "kw07KI8DiGVO",
        "outputId": "33b32922-94fd-40e1-bc7a-8318ce929b60"
      },
      "outputs": [
        {
          "output_type": "stream",
          "name": "stderr",
          "text": [
            "/usr/local/lib/python3.8/dist-packages/sklearn/utils/deprecation.py:87: FutureWarning: Function get_feature_names is deprecated; get_feature_names is deprecated in 1.0 and will be removed in 1.2. Please use get_feature_names_out instead.\n",
            "  warnings.warn(msg, category=FutureWarning)\n"
          ]
        },
        {
          "output_type": "stream",
          "name": "stdout",
          "text": [
            "0,news,phone,follow,get,wonderland,xhnews,mobile,smartphone,android,apple,say,launch,world,internet,new,\n",
            "1,high,firm,new,say,world,market,giant,internet,business,launch,big,startup,year,deal,trade,\n",
            "2,chinese,company,firm,giant,government,new,american,market,say,foreign,high,investment,data,business,access,\n",
            "3,approves,linked,receives,trademark,project,trump,high,news,giant,company,say,made,go,report,speech,\n",
            "4,offer,usb,led,support,ambulance,oxygen,generation,protective,plant,iphone,black,case,dual,red,pc,\n",
            "5,free,speech,denial,directed,difference,asserting,involving,conspiracy,document,son,page,elaborate,theory,di,nbcnews,\n"
          ]
        }
      ],
      "source": [
        "# Top words per cluster (15 per topic)\n",
        "order_centroids = kmeanModel.cluster_centers_.argsort()[:, ::-1]\n",
        "terms = vectorizer.get_feature_names()\n",
        "dict = []\n",
        "for i in range(clusters):\n",
        "    print(\"%d\" % i, sep='', end=','),\n",
        "    for ind in order_centroids[i, :15]:\n",
        "        print(terms[ind], sep='', end=',')\n",
        "    print('')"
      ]
    },
    {
      "cell_type": "code",
      "execution_count": null,
      "metadata": {
        "colab": {
          "base_uri": "https://localhost:8080/",
          "height": 235
        },
        "id": "h_9K7aTsiZva",
        "outputId": "1aa844aa-1ab7-4582-d065-0075b53c656c"
      },
      "outputs": [
        {
          "output_type": "execute_result",
          "data": {
            "text/plain": [
              "   k_means  tweet\n",
              "0        0   1524\n",
              "1        1  23835\n",
              "2        2   3510\n",
              "3        3    110\n",
              "4        4    482\n",
              "5        5    539"
            ],
            "text/html": [
              "\n",
              "  <div id=\"df-b7156f89-df24-4421-b026-202683080355\">\n",
              "    <div class=\"colab-df-container\">\n",
              "      <div>\n",
              "<style scoped>\n",
              "    .dataframe tbody tr th:only-of-type {\n",
              "        vertical-align: middle;\n",
              "    }\n",
              "\n",
              "    .dataframe tbody tr th {\n",
              "        vertical-align: top;\n",
              "    }\n",
              "\n",
              "    .dataframe thead th {\n",
              "        text-align: right;\n",
              "    }\n",
              "</style>\n",
              "<table border=\"1\" class=\"dataframe\">\n",
              "  <thead>\n",
              "    <tr style=\"text-align: right;\">\n",
              "      <th></th>\n",
              "      <th>k_means</th>\n",
              "      <th>tweet</th>\n",
              "    </tr>\n",
              "  </thead>\n",
              "  <tbody>\n",
              "    <tr>\n",
              "      <th>0</th>\n",
              "      <td>0</td>\n",
              "      <td>1524</td>\n",
              "    </tr>\n",
              "    <tr>\n",
              "      <th>1</th>\n",
              "      <td>1</td>\n",
              "      <td>23835</td>\n",
              "    </tr>\n",
              "    <tr>\n",
              "      <th>2</th>\n",
              "      <td>2</td>\n",
              "      <td>3510</td>\n",
              "    </tr>\n",
              "    <tr>\n",
              "      <th>3</th>\n",
              "      <td>3</td>\n",
              "      <td>110</td>\n",
              "    </tr>\n",
              "    <tr>\n",
              "      <th>4</th>\n",
              "      <td>4</td>\n",
              "      <td>482</td>\n",
              "    </tr>\n",
              "    <tr>\n",
              "      <th>5</th>\n",
              "      <td>5</td>\n",
              "      <td>539</td>\n",
              "    </tr>\n",
              "  </tbody>\n",
              "</table>\n",
              "</div>\n",
              "      <button class=\"colab-df-convert\" onclick=\"convertToInteractive('df-b7156f89-df24-4421-b026-202683080355')\"\n",
              "              title=\"Convert this dataframe to an interactive table.\"\n",
              "              style=\"display:none;\">\n",
              "        \n",
              "  <svg xmlns=\"http://www.w3.org/2000/svg\" height=\"24px\"viewBox=\"0 0 24 24\"\n",
              "       width=\"24px\">\n",
              "    <path d=\"M0 0h24v24H0V0z\" fill=\"none\"/>\n",
              "    <path d=\"M18.56 5.44l.94 2.06.94-2.06 2.06-.94-2.06-.94-.94-2.06-.94 2.06-2.06.94zm-11 1L8.5 8.5l.94-2.06 2.06-.94-2.06-.94L8.5 2.5l-.94 2.06-2.06.94zm10 10l.94 2.06.94-2.06 2.06-.94-2.06-.94-.94-2.06-.94 2.06-2.06.94z\"/><path d=\"M17.41 7.96l-1.37-1.37c-.4-.4-.92-.59-1.43-.59-.52 0-1.04.2-1.43.59L10.3 9.45l-7.72 7.72c-.78.78-.78 2.05 0 2.83L4 21.41c.39.39.9.59 1.41.59.51 0 1.02-.2 1.41-.59l7.78-7.78 2.81-2.81c.8-.78.8-2.07 0-2.86zM5.41 20L4 18.59l7.72-7.72 1.47 1.35L5.41 20z\"/>\n",
              "  </svg>\n",
              "      </button>\n",
              "      \n",
              "  <style>\n",
              "    .colab-df-container {\n",
              "      display:flex;\n",
              "      flex-wrap:wrap;\n",
              "      gap: 12px;\n",
              "    }\n",
              "\n",
              "    .colab-df-convert {\n",
              "      background-color: #E8F0FE;\n",
              "      border: none;\n",
              "      border-radius: 50%;\n",
              "      cursor: pointer;\n",
              "      display: none;\n",
              "      fill: #1967D2;\n",
              "      height: 32px;\n",
              "      padding: 0 0 0 0;\n",
              "      width: 32px;\n",
              "    }\n",
              "\n",
              "    .colab-df-convert:hover {\n",
              "      background-color: #E2EBFA;\n",
              "      box-shadow: 0px 1px 2px rgba(60, 64, 67, 0.3), 0px 1px 3px 1px rgba(60, 64, 67, 0.15);\n",
              "      fill: #174EA6;\n",
              "    }\n",
              "\n",
              "    [theme=dark] .colab-df-convert {\n",
              "      background-color: #3B4455;\n",
              "      fill: #D2E3FC;\n",
              "    }\n",
              "\n",
              "    [theme=dark] .colab-df-convert:hover {\n",
              "      background-color: #434B5C;\n",
              "      box-shadow: 0px 1px 3px 1px rgba(0, 0, 0, 0.15);\n",
              "      filter: drop-shadow(0px 1px 2px rgba(0, 0, 0, 0.3));\n",
              "      fill: #FFFFFF;\n",
              "    }\n",
              "  </style>\n",
              "\n",
              "      <script>\n",
              "        const buttonEl =\n",
              "          document.querySelector('#df-b7156f89-df24-4421-b026-202683080355 button.colab-df-convert');\n",
              "        buttonEl.style.display =\n",
              "          google.colab.kernel.accessAllowed ? 'block' : 'none';\n",
              "\n",
              "        async function convertToInteractive(key) {\n",
              "          const element = document.querySelector('#df-b7156f89-df24-4421-b026-202683080355');\n",
              "          const dataTable =\n",
              "            await google.colab.kernel.invokeFunction('convertToInteractive',\n",
              "                                                     [key], {});\n",
              "          if (!dataTable) return;\n",
              "\n",
              "          const docLinkHtml = 'Like what you see? Visit the ' +\n",
              "            '<a target=\"_blank\" href=https://colab.research.google.com/notebooks/data_table.ipynb>data table notebook</a>'\n",
              "            + ' to learn more about interactive tables.';\n",
              "          element.innerHTML = '';\n",
              "          dataTable['output_type'] = 'display_data';\n",
              "          await google.colab.output.renderOutput(dataTable, element);\n",
              "          const docLink = document.createElement('div');\n",
              "          docLink.innerHTML = docLinkHtml;\n",
              "          element.appendChild(docLink);\n",
              "        }\n",
              "      </script>\n",
              "    </div>\n",
              "  </div>\n",
              "  "
            ]
          },
          "metadata": {},
          "execution_count": 39
        }
      ],
      "source": [
        "# Check the cluster sizes!¶\n",
        "china_sample.groupby('k_means').count().reset_index()[['k_means', 'tweet']]"
      ]
    },
    {
      "cell_type": "markdown",
      "metadata": {
        "id": "Ig-sAwwSYdMz"
      },
      "source": [
        "### TF-IDF & KMeans Clustering India"
      ]
    },
    {
      "cell_type": "markdown",
      "metadata": {
        "id": "FQSdSFX2L0rU"
      },
      "source": [
        "This section use tf-idf & k-means to analyze the tweets that mention India. Recall the overall research goal was to find how tech is discussed (framed) in Chinese adn Indian seettings. TF-IDF & K-Means Clustering identifies helps us answer that questions by clustering topics which is definied as repeated co-occurance of terms (Nguyen, 2022). Condering that all the tweets are about tech, this method allows us to find topics around the tech frame in Indian context."
      ]
    },
    {
      "cell_type": "code",
      "execution_count": null,
      "metadata": {
        "id": "7IoYGB58YdjE"
      },
      "outputs": [],
      "source": [
        "# Only keep the tweets that contains the word \"India\"\n",
        "# The code takes into account different variations of the word and case sensitivity.\n",
        "india_df = df_tweet[df_tweet['tweet'].str.contains(r'\\b(india|indian)\\b', case=False)]\n",
        "\n",
        "# Print the tweets that contain the word \"India\" and its variations.\n",
        "print(\"Tweets containing the word 'India':\", len(india_df))\n",
        "\n",
        "# Make sure that the tweets contains only the word \"India\" due to the reason mentioned above.\n",
        "india_df = india_df[~india_df['tweet'].str.contains(r'\\b(china|chinese)\\b', case=False)]\n",
        "\n",
        "# Print the tweets that contain only the word \"India\" and its variations.\n",
        "print(\"Tweets containing only the word 'India':\",len(india_df))"
      ]
    },
    {
      "cell_type": "code",
      "execution_count": null,
      "metadata": {
        "id": "nr5nCbUUq2-F"
      },
      "outputs": [],
      "source": [
        "# There are more 116,000 tweets that mention India. It takes a long time to process this data.\n",
        "# Even though I used Google Colab for this assignment, it failed a couple times to complete pre-prossing and other tasks.\n",
        "# Therefore, I decided to take a sample from the data and proceed with that data.\n",
        "# Select 30,000 random rows from the data frame, with a fixed random seed. 30,000 is a random choice but should be representative.\n",
        "india_sample = india_df.sample(30000, random_state=42)"
      ]
    },
    {
      "cell_type": "code",
      "execution_count": null,
      "metadata": {
        "id": "d86j6goRrN3I"
      },
      "outputs": [],
      "source": [
        "#First, convert the 'tweet' column into strings\n",
        "india_sample['tweet'] = india_sample['tweet'].astype(str)"
      ]
    },
    {
      "cell_type": "code",
      "execution_count": null,
      "metadata": {
        "id": "ViGGXWparWKj"
      },
      "outputs": [],
      "source": [
        "#Function for NLP for separating features (Spacy)\n",
        "def do_nlp(x):\n",
        "    doc = nlp(x)\n",
        "    return doc\n",
        "\n",
        "#Create new column with words separated\n",
        "india_sample['text_nlp'] = india_sample['tweet'].apply(lambda x: do_nlp(x))\n",
        "india_sample.head()"
      ]
    },
    {
      "cell_type": "code",
      "execution_count": null,
      "metadata": {
        "id": "htlcgciareBy"
      },
      "outputs": [],
      "source": [
        "#Function to include text \"features\"\n",
        "def include_features(x):\n",
        "    include_features = ['VERB', 'NOUN', 'ADJ'] #In this context nouns, adjectives and verbs will probably be most informative. Adverbs and pronouns may not be as relevant for this task. Additioanally, I have computational limits.\n",
        "    text = ' '.join([ent.text for ent in x if ent.pos_ in include_features])\n",
        "    return text\n",
        "\n",
        "india_sample['features'] = india_sample['text_nlp'].apply(lambda x: include_features(x))"
      ]
    },
    {
      "cell_type": "code",
      "execution_count": null,
      "metadata": {
        "id": "3qq7Bsefro7o",
        "colab": {
          "base_uri": "https://localhost:8080/"
        },
        "outputId": "a2cb2287-65f8-41e1-e18a-97fc6f0dd750"
      },
      "outputs": [
        {
          "output_type": "execute_result",
          "data": {
            "text/plain": [
              "153299    @anandmahindra represented wid cars team made ...\n",
              "294764    Strategy data poor nations gaining importance ...\n",
              "225840            warm welcome Italian look meeting partici\n",
              "285720                       Reading grey market costs more\n",
              "208452     Stiff competition awaits takes made G tech world\n",
              "Name: features, dtype: object"
            ]
          },
          "metadata": {},
          "execution_count": 57
        }
      ],
      "source": [
        "india_sample['features'].head(5)"
      ]
    },
    {
      "cell_type": "code",
      "execution_count": null,
      "metadata": {
        "id": "kWc2XUCJrw02"
      },
      "outputs": [],
      "source": [
        "# Function to clean up the texts (lowercase, remove symbols, numbers, stopwords etc.)\n",
        "def clean_text(x):\n",
        "    x = x.lower()\n",
        "    x: emoji.demojize(x) #Remove emojis from the tweets\n",
        "    re.sub(r'(http|https)://\\S+|@\\w+|\\d+|#|RT', '',x) #remove URLs, @-mentions, numbers, # symbol and the abbreviation \"RT\"\n",
        "    x = x.translate(str.maketrans('', '', string.punctuation)) # Remove punctuations\n",
        "    # tokenize\n",
        "    x = nltk.word_tokenize(x)\n",
        "    x = [token for token in x if token not in stop_words]\n",
        "    # lemmatization and pass string back\n",
        "    x = ' '.join([lemmatizer.lemmatize(w) for w in x])\n",
        "    return x\n",
        "\n",
        "stop_words = stopwords.words('english')\n",
        "new_sw = ['ai', 'artificial intelligence', 'tech', 'technology'] #Remove these concepts as they will be common in both China and India tweets and thus, not distinguishing.\n",
        "stop_words.extend(new_sw)\n",
        "\n",
        "india_sample['features'] = india_sample['features'].apply(lambda x: clean_text(x))"
      ]
    },
    {
      "cell_type": "code",
      "execution_count": null,
      "metadata": {
        "id": "6FFenAYfr_Fx",
        "colab": {
          "base_uri": "https://localhost:8080/"
        },
        "outputId": "18b57714-dd0a-4755-babc-21b9e1c0d48a"
      },
      "outputs": [
        {
          "output_type": "execute_result",
          "data": {
            "text/plain": [
              "153299    anandmahindra represented wid car team made me...\n",
              "294764    strategy data poor nation gaining importance team\n",
              "225840            warm welcome italian look meeting partici\n",
              "285720                             reading grey market cost\n",
              "208452           stiff competition awaits take made g world\n",
              "Name: features, dtype: object"
            ]
          },
          "metadata": {},
          "execution_count": 60
        }
      ],
      "source": [
        "india_sample['features'].head(5)"
      ]
    },
    {
      "cell_type": "code",
      "execution_count": null,
      "metadata": {
        "id": "p3C30T5bsGlS",
        "colab": {
          "base_uri": "https://localhost:8080/"
        },
        "outputId": "f3188454-f641-4254-dfce-735695a6c211"
      },
      "outputs": [
        {
          "output_type": "stream",
          "name": "stderr",
          "text": [
            "/usr/local/lib/python3.8/dist-packages/sklearn/utils/deprecation.py:87: FutureWarning: Function get_feature_names is deprecated; get_feature_names is deprecated in 1.0 and will be removed in 1.2. Please use get_feature_names_out instead.\n",
            "  warnings.warn(msg, category=FutureWarning)\n"
          ]
        }
      ],
      "source": [
        "# Vectorize and calculate TF-IDF!\n",
        "vectorizer = TfidfVectorizer(min_df=20, max_df=0.4) #Ignore the terms that occur in either too few or too many tweets, as they do not tend to be differentiating.\n",
        "X = vectorizer.fit_transform(india_sample['features'])\n",
        "tf_idf = pd.DataFrame(data = X.toarray(), columns=vectorizer.get_feature_names())"
      ]
    },
    {
      "cell_type": "code",
      "execution_count": null,
      "metadata": {
        "id": "qL7TDbqzPeuA"
      },
      "outputs": [],
      "source": [
        "!pip install kneed #not available colab\n",
        "from kneed import KneeLocator"
      ]
    },
    {
      "cell_type": "code",
      "execution_count": null,
      "metadata": {
        "colab": {
          "base_uri": "https://localhost:8080/"
        },
        "id": "5_cEHZi_ZAfm",
        "outputId": "17487fa9-92e5-4bf9-8cd1-997b88421e95"
      },
      "outputs": [
        {
          "output_type": "stream",
          "name": "stdout",
          "text": [
            "11\n"
          ]
        }
      ],
      "source": [
        "inertia = []\n",
        "\n",
        "K = range(1, 20)\n",
        "for k in K:\n",
        "    kmeanModel = KMeans(n_clusters=k,random_state=0)\n",
        "    kmeanModel.fit(tf_idf)\n",
        "    inertia.append(kmeanModel.inertia_)\n",
        "\n",
        "\n",
        "kn = KneeLocator(K, inertia, curve='convex', direction='decreasing')\n",
        "print(kn.knee)"
      ]
    },
    {
      "cell_type": "code",
      "execution_count": null,
      "metadata": {
        "colab": {
          "base_uri": "https://localhost:8080/",
          "height": 351
        },
        "id": "dBJCe0BPZAk6",
        "outputId": "359c2d39-a61a-4bc3-bf01-4e852396c89d"
      },
      "outputs": [
        {
          "output_type": "execute_result",
          "data": {
            "text/plain": [
              "<matplotlib.collections.LineCollection at 0x7f5bda28ef10>"
            ]
          },
          "metadata": {},
          "execution_count": 64
        },
        {
          "output_type": "display_data",
          "data": {
            "text/plain": [
              "<Figure size 720x360 with 1 Axes>"
            ],
            "image/png": "[encoded data removed]"
          },
          "metadata": {
            "needs_background": "light"
          }
        }
      ],
      "source": [
        "# Create a line plot.\n",
        "import matplotlib.pyplot as plt\n",
        "plt.figure(figsize=(10,5))\n",
        "\n",
        "plt.xlabel('number of clusters k')\n",
        "plt.ylabel('Sum of squared distances')\n",
        "plt.xticks( range(1, 20))\n",
        "plt.plot(K, inertia, 'bx-')\n",
        "plt.vlines(kn.knee, plt.ylim()[0], plt.ylim()[1], linestyles='dashed')"
      ]
    },
    {
      "cell_type": "code",
      "execution_count": null,
      "metadata": {
        "id": "w8ryJdfHZAqI"
      },
      "outputs": [],
      "source": [
        "#Enter recommended number of clusters and add k_means as a new column in the dataframe. I decided to look at max 20 clusters as it does not make sense to find more clusters, considering our interest in a signle term 'tech'.\n",
        "clusters = 11\n",
        "kmeanModel = KMeans(n_clusters=clusters, init='k-means++', max_iter=3000, random_state=0)\n",
        "mod = kmeanModel.fit_transform(tf_idf)\n",
        "india_sample['k_means'] = kmeanModel.predict(tf_idf)"
      ]
    },
    {
      "cell_type": "code",
      "execution_count": null,
      "metadata": {
        "colab": {
          "base_uri": "https://localhost:8080/"
        },
        "id": "6hg-HvupZAu-",
        "outputId": "a446efbf-e273-4715-d3df-66a47dfa616f"
      },
      "outputs": [
        {
          "output_type": "stream",
          "name": "stdout",
          "text": [
            "0,job,indian,year,internet,market,say,top,first,get,user,phone,business,help,high,go,\n",
            "1,launch,smartphone,tablet,phone,service,today,app,inch,first,set,smartphones,apple,tech2eets,camera,new,\n",
            "2,news,world,launch,blogger,blog,phone,latest,new,et,technews,stock,price,apple,get,smartphone,\n",
            "3,world,best,largest,become,first,country,city,biggest,phone,top,innovation,chapter,glorious,1st,upcoming,\n",
            "4,new,launch,get,rule,platform,boost,post,indian,feature,user,unveils,plan,trade,tie,business,\n",
            "5,mobile,phone,launch,internet,handset,user,market,app,new,crore,data,manufacturing,news,lakh,number,\n",
            "6,starting,sale,stunner,worldsfirsttechnology,honorview20,tonight,midnight,grab,alert,shop,wonder,celebrate,feature,set,launch,\n",
            "7,make,amp,price,coming,91,cut,first,today,get,time,high,smartphone,free,2nd,existence,\n",
            "8,launched,price,inch,smartphone,camera,news,display,priced,battery,specification,starting,smartphones,feature,tech2eets,variant,\n",
            "9,company,indian,comply,dictate,law,private,try,legal,profit,policy,top,name,chandigarh,punjab,market,\n",
            "10,startup,indian,funding,ecosystem,raise,year,watch,omkarraii,hub,based,biggest,entrepreneur,raised,investment,make,\n"
          ]
        },
        {
          "output_type": "stream",
          "name": "stderr",
          "text": [
            "/usr/local/lib/python3.8/dist-packages/sklearn/utils/deprecation.py:87: FutureWarning: Function get_feature_names is deprecated; get_feature_names is deprecated in 1.0 and will be removed in 1.2. Please use get_feature_names_out instead.\n",
            "  warnings.warn(msg, category=FutureWarning)\n"
          ]
        }
      ],
      "source": [
        "#Top words per cluster (15 per topic)\n",
        "order_centroids = kmeanModel.cluster_centers_.argsort()[:, ::-1]\n",
        "terms = vectorizer.get_feature_names()\n",
        "dict = []\n",
        "for i in range(clusters):\n",
        "    print(\"%d\" % i, sep='', end=','),\n",
        "    for ind in order_centroids[i, :15]:\n",
        "        print(terms[ind], sep='', end=',')\n",
        "    print('')"
      ]
    },
    {
      "cell_type": "code",
      "execution_count": null,
      "metadata": {
        "colab": {
          "base_uri": "https://localhost:8080/",
          "height": 390
        },
        "id": "iwDqZ6nRZAzz",
        "outputId": "ef28d634-bcbc-4999-ae7b-349676db6920"
      },
      "outputs": [
        {
          "output_type": "execute_result",
          "data": {
            "text/plain": [
              "    k_means  tweet\n",
              "0         0  21071\n",
              "1         1   1043\n",
              "2         2   1091\n",
              "3         3    774\n",
              "4         4   1055\n",
              "5         5    726\n",
              "6         6    243\n",
              "7         7   1330\n",
              "8         8    617\n",
              "9         9    879\n",
              "10       10   1171"
            ],
            "text/html": [
              "\n",
              "  <div id=\"df-cb6596cf-ef84-4602-b40b-6d3a8098a187\">\n",
              "    <div class=\"colab-df-container\">\n",
              "      <div>\n",
              "<style scoped>\n",
              "    .dataframe tbody tr th:only-of-type {\n",
              "        vertical-align: middle;\n",
              "    }\n",
              "\n",
              "    .dataframe tbody tr th {\n",
              "        vertical-align: top;\n",
              "    }\n",
              "\n",
              "    .dataframe thead th {\n",
              "        text-align: right;\n",
              "    }\n",
              "</style>\n",
              "<table border=\"1\" class=\"dataframe\">\n",
              "  <thead>\n",
              "    <tr style=\"text-align: right;\">\n",
              "      <th></th>\n",
              "      <th>k_means</th>\n",
              "      <th>tweet</th>\n",
              "    </tr>\n",
              "  </thead>\n",
              "  <tbody>\n",
              "    <tr>\n",
              "      <th>0</th>\n",
              "      <td>0</td>\n",
              "      <td>21071</td>\n",
              "    </tr>\n",
              "    <tr>\n",
              "      <th>1</th>\n",
              "      <td>1</td>\n",
              "      <td>1043</td>\n",
              "    </tr>\n",
              "    <tr>\n",
              "      <th>2</th>\n",
              "      <td>2</td>\n",
              "      <td>1091</td>\n",
              "    </tr>\n",
              "    <tr>\n",
              "      <th>3</th>\n",
              "      <td>3</td>\n",
              "      <td>774</td>\n",
              "    </tr>\n",
              "    <tr>\n",
              "      <th>4</th>\n",
              "      <td>4</td>\n",
              "      <td>1055</td>\n",
              "    </tr>\n",
              "    <tr>\n",
              "      <th>5</th>\n",
              "      <td>5</td>\n",
              "      <td>726</td>\n",
              "    </tr>\n",
              "    <tr>\n",
              "      <th>6</th>\n",
              "      <td>6</td>\n",
              "      <td>243</td>\n",
              "    </tr>\n",
              "    <tr>\n",
              "      <th>7</th>\n",
              "      <td>7</td>\n",
              "      <td>1330</td>\n",
              "    </tr>\n",
              "    <tr>\n",
              "      <th>8</th>\n",
              "      <td>8</td>\n",
              "      <td>617</td>\n",
              "    </tr>\n",
              "    <tr>\n",
              "      <th>9</th>\n",
              "      <td>9</td>\n",
              "      <td>879</td>\n",
              "    </tr>\n",
              "    <tr>\n",
              "      <th>10</th>\n",
              "      <td>10</td>\n",
              "      <td>1171</td>\n",
              "    </tr>\n",
              "  </tbody>\n",
              "</table>\n",
              "</div>\n",
              "      <button class=\"colab-df-convert\" onclick=\"convertToInteractive('df-cb6596cf-ef84-4602-b40b-6d3a8098a187')\"\n",
              "              title=\"Convert this dataframe to an interactive table.\"\n",
              "              style=\"display:none;\">\n",
              "        \n",
              "  <svg xmlns=\"http://www.w3.org/2000/svg\" height=\"24px\"viewBox=\"0 0 24 24\"\n",
              "       width=\"24px\">\n",
              "    <path d=\"M0 0h24v24H0V0z\" fill=\"none\"/>\n",
              "    <path d=\"M18.56 5.44l.94 2.06.94-2.06 2.06-.94-2.06-.94-.94-2.06-.94 2.06-2.06.94zm-11 1L8.5 8.5l.94-2.06 2.06-.94-2.06-.94L8.5 2.5l-.94 2.06-2.06.94zm10 10l.94 2.06.94-2.06 2.06-.94-2.06-.94-.94-2.06-.94 2.06-2.06.94z\"/><path d=\"M17.41 7.96l-1.37-1.37c-.4-.4-.92-.59-1.43-.59-.52 0-1.04.2-1.43.59L10.3 9.45l-7.72 7.72c-.78.78-.78 2.05 0 2.83L4 21.41c.39.39.9.59 1.41.59.51 0 1.02-.2 1.41-.59l7.78-7.78 2.81-2.81c.8-.78.8-2.07 0-2.86zM5.41 20L4 18.59l7.72-7.72 1.47 1.35L5.41 20z\"/>\n",
              "  </svg>\n",
              "      </button>\n",
              "      \n",
              "  <style>\n",
              "    .colab-df-container {\n",
              "      display:flex;\n",
              "      flex-wrap:wrap;\n",
              "      gap: 12px;\n",
              "    }\n",
              "\n",
              "    .colab-df-convert {\n",
              "      background-color: #E8F0FE;\n",
              "      border: none;\n",
              "      border-radius: 50%;\n",
              "      cursor: pointer;\n",
              "      display: none;\n",
              "      fill: #1967D2;\n",
              "      height: 32px;\n",
              "      padding: 0 0 0 0;\n",
              "      width: 32px;\n",
              "    }\n",
              "\n",
              "    .colab-df-convert:hover {\n",
              "      background-color: #E2EBFA;\n",
              "      box-shadow: 0px 1px 2px rgba(60, 64, 67, 0.3), 0px 1px 3px 1px rgba(60, 64, 67, 0.15);\n",
              "      fill: #174EA6;\n",
              "    }\n",
              "\n",
              "    [theme=dark] .colab-df-convert {\n",
              "      background-color: #3B4455;\n",
              "      fill: #D2E3FC;\n",
              "    }\n",
              "\n",
              "    [theme=dark] .colab-df-convert:hover {\n",
              "      background-color: #434B5C;\n",
              "      box-shadow: 0px 1px 3px 1px rgba(0, 0, 0, 0.15);\n",
              "      filter: drop-shadow(0px 1px 2px rgba(0, 0, 0, 0.3));\n",
              "      fill: #FFFFFF;\n",
              "    }\n",
              "  </style>\n",
              "\n",
              "      <script>\n",
              "        const buttonEl =\n",
              "          document.querySelector('#df-cb6596cf-ef84-4602-b40b-6d3a8098a187 button.colab-df-convert');\n",
              "        buttonEl.style.display =\n",
              "          google.colab.kernel.accessAllowed ? 'block' : 'none';\n",
              "\n",
              "        async function convertToInteractive(key) {\n",
              "          const element = document.querySelector('#df-cb6596cf-ef84-4602-b40b-6d3a8098a187');\n",
              "          const dataTable =\n",
              "            await google.colab.kernel.invokeFunction('convertToInteractive',\n",
              "                                                     [key], {});\n",
              "          if (!dataTable) return;\n",
              "\n",
              "          const docLinkHtml = 'Like what you see? Visit the ' +\n",
              "            '<a target=\"_blank\" href=https://colab.research.google.com/notebooks/data_table.ipynb>data table notebook</a>'\n",
              "            + ' to learn more about interactive tables.';\n",
              "          element.innerHTML = '';\n",
              "          dataTable['output_type'] = 'display_data';\n",
              "          await google.colab.output.renderOutput(dataTable, element);\n",
              "          const docLink = document.createElement('div');\n",
              "          docLink.innerHTML = docLinkHtml;\n",
              "          element.appendChild(docLink);\n",
              "        }\n",
              "      </script>\n",
              "    </div>\n",
              "  </div>\n",
              "  "
            ]
          },
          "metadata": {},
          "execution_count": 67
        }
      ],
      "source": [
        "# Check the cluster sizes!¶\n",
        "india_sample.groupby('k_means').count().reset_index()[['k_means', 'tweet']]"
      ]
    },
    {
      "cell_type": "markdown",
      "metadata": {
        "id": "-Akfp7iayYwk"
      },
      "source": [
        "### LDA China"
      ]
    },
    {
      "cell_type": "markdown",
      "metadata": {
        "id": "CGtKYhp9Mqz1"
      },
      "source": [
        "This section use LDA method to analyze the tweets that mention China. Recall the overall research goal was to find how tech is discussed (framed) in Chinese adn Indian seettings. LDA similar to TF-IDF & K-Means helps us answer that questions by focusing topics which is definied as repeated co-occurance of terms (Nguyen, 2022). LDA find topics in the given text. Condering that all the tweets are about tech, this method will allow us to find topics around the tech frame in Chinese context."
      ]
    },
    {
      "cell_type": "code",
      "execution_count": null,
      "metadata": {
        "id": "6tKUjTLwyZ_c"
      },
      "outputs": [],
      "source": [
        "#Use the pre-processed text from the K-Means section.\n",
        "china_lda = china_sample['features'].copy()\n",
        "#articles = selection['features'].copy()\n",
        "china_lda = china_lda.reset_index()"
      ]
    },
    {
      "cell_type": "code",
      "execution_count": null,
      "metadata": {
        "colab": {
          "base_uri": "https://localhost:8080/"
        },
        "id": "hktkHhp5y-AX",
        "outputId": "77298931-d8fa-461f-fc4e-f81aa1d6371d"
      },
      "outputs": [
        {
          "output_type": "execute_result",
          "data": {
            "text/plain": [
              "0    [chinese, robot, becomes, world, first, machin...\n",
              "1    [reutersbiz, drop, leading, brand, state, purc...\n",
              "2    [leading, researcher, want, form, hub, compete...\n",
              "3    [focus, bringing, wellness, child, future, gen...\n",
              "4    [iceboxdesigns, social, make, audio, interacti...\n",
              "Name: features, dtype: object"
            ]
          },
          "metadata": {},
          "execution_count": 41
        }
      ],
      "source": [
        "#Tokenize the texts\n",
        "china_lda['features'] =  china_lda['features'].apply(word_tokenize)\n",
        "china_lda['features'].head()"
      ]
    },
    {
      "cell_type": "code",
      "execution_count": null,
      "metadata": {
        "id": "7N015P5Uy-Qu"
      },
      "outputs": [],
      "source": [
        "#Function to remove words - sometimes when exploring the results, some words make the results less informative.\n",
        "#These can be filtered out with this function.\n",
        "def remove_sw(x):\n",
        "    # remove stopwords\n",
        "    x = [token for token in x if not token in stop_words]\n",
        "    return x\n",
        "\n",
        "stop_words = stopwords.words('english')\n",
        "\n",
        "new_sw = ['ai', 'artificial intelligence', 'tech', 'technology'] #These concepts are not differentiating\n",
        "stop_words.extend(new_sw)"
      ]
    },
    {
      "cell_type": "code",
      "execution_count": null,
      "metadata": {
        "id": "XjcRPEt7y-Wf"
      },
      "outputs": [],
      "source": [
        "china_lda['features'] = china_lda['features'].apply(lambda x: remove_sw(x))"
      ]
    },
    {
      "cell_type": "code",
      "execution_count": null,
      "metadata": {
        "colab": {
          "base_uri": "https://localhost:8080/",
          "height": 204
        },
        "id": "VZZ5o1wF6c_8",
        "outputId": "cc83fc8e-a311-40b3-eb61-1e64cf83090e"
      },
      "outputs": [
        {
          "output_type": "execute_result",
          "data": {
            "text/plain": [
              "    index                                           features\n",
              "0  218013  [chinese, robot, becomes, world, first, machin...\n",
              "1  116774  [reutersbiz, drop, leading, brand, state, purc...\n",
              "2  108124  [leading, researcher, want, form, hub, compete...\n",
              "3   59387  [focus, bringing, wellness, child, future, gen...\n",
              "4   92109  [iceboxdesigns, social, make, audio, interacti..."
            ],
            "text/html": [
              "\n",
              "  <div id=\"df-1e0e7569-a352-4d20-b599-60f5f6ad79c3\">\n",
              "    <div class=\"colab-df-container\">\n",
              "      <div>\n",
              "<style scoped>\n",
              "    .dataframe tbody tr th:only-of-type {\n",
              "        vertical-align: middle;\n",
              "    }\n",
              "\n",
              "    .dataframe tbody tr th {\n",
              "        vertical-align: top;\n",
              "    }\n",
              "\n",
              "    .dataframe thead th {\n",
              "        text-align: right;\n",
              "    }\n",
              "</style>\n",
              "<table border=\"1\" class=\"dataframe\">\n",
              "  <thead>\n",
              "    <tr style=\"text-align: right;\">\n",
              "      <th></th>\n",
              "      <th>index</th>\n",
              "      <th>features</th>\n",
              "    </tr>\n",
              "  </thead>\n",
              "  <tbody>\n",
              "    <tr>\n",
              "      <th>0</th>\n",
              "      <td>218013</td>\n",
              "      <td>[chinese, robot, becomes, world, first, machin...</td>\n",
              "    </tr>\n",
              "    <tr>\n",
              "      <th>1</th>\n",
              "      <td>116774</td>\n",
              "      <td>[reutersbiz, drop, leading, brand, state, purc...</td>\n",
              "    </tr>\n",
              "    <tr>\n",
              "      <th>2</th>\n",
              "      <td>108124</td>\n",
              "      <td>[leading, researcher, want, form, hub, compete...</td>\n",
              "    </tr>\n",
              "    <tr>\n",
              "      <th>3</th>\n",
              "      <td>59387</td>\n",
              "      <td>[focus, bringing, wellness, child, future, gen...</td>\n",
              "    </tr>\n",
              "    <tr>\n",
              "      <th>4</th>\n",
              "      <td>92109</td>\n",
              "      <td>[iceboxdesigns, social, make, audio, interacti...</td>\n",
              "    </tr>\n",
              "  </tbody>\n",
              "</table>\n",
              "</div>\n",
              "      <button class=\"colab-df-convert\" onclick=\"convertToInteractive('df-1e0e7569-a352-4d20-b599-60f5f6ad79c3')\"\n",
              "              title=\"Convert this dataframe to an interactive table.\"\n",
              "              style=\"display:none;\">\n",
              "        \n",
              "  <svg xmlns=\"http://www.w3.org/2000/svg\" height=\"24px\"viewBox=\"0 0 24 24\"\n",
              "       width=\"24px\">\n",
              "    <path d=\"M0 0h24v24H0V0z\" fill=\"none\"/>\n",
              "    <path d=\"M18.56 5.44l.94 2.06.94-2.06 2.06-.94-2.06-.94-.94-2.06-.94 2.06-2.06.94zm-11 1L8.5 8.5l.94-2.06 2.06-.94-2.06-.94L8.5 2.5l-.94 2.06-2.06.94zm10 10l.94 2.06.94-2.06 2.06-.94-2.06-.94-.94-2.06-.94 2.06-2.06.94z\"/><path d=\"M17.41 7.96l-1.37-1.37c-.4-.4-.92-.59-1.43-.59-.52 0-1.04.2-1.43.59L10.3 9.45l-7.72 7.72c-.78.78-.78 2.05 0 2.83L4 21.41c.39.39.9.59 1.41.59.51 0 1.02-.2 1.41-.59l7.78-7.78 2.81-2.81c.8-.78.8-2.07 0-2.86zM5.41 20L4 18.59l7.72-7.72 1.47 1.35L5.41 20z\"/>\n",
              "  </svg>\n",
              "      </button>\n",
              "      \n",
              "  <style>\n",
              "    .colab-df-container {\n",
              "      display:flex;\n",
              "      flex-wrap:wrap;\n",
              "      gap: 12px;\n",
              "    }\n",
              "\n",
              "    .colab-df-convert {\n",
              "      background-color: #E8F0FE;\n",
              "      border: none;\n",
              "      border-radius: 50%;\n",
              "      cursor: pointer;\n",
              "      display: none;\n",
              "      fill: #1967D2;\n",
              "      height: 32px;\n",
              "      padding: 0 0 0 0;\n",
              "      width: 32px;\n",
              "    }\n",
              "\n",
              "    .colab-df-convert:hover {\n",
              "      background-color: #E2EBFA;\n",
              "      box-shadow: 0px 1px 2px rgba(60, 64, 67, 0.3), 0px 1px 3px 1px rgba(60, 64, 67, 0.15);\n",
              "      fill: #174EA6;\n",
              "    }\n",
              "\n",
              "    [theme=dark] .colab-df-convert {\n",
              "      background-color: #3B4455;\n",
              "      fill: #D2E3FC;\n",
              "    }\n",
              "\n",
              "    [theme=dark] .colab-df-convert:hover {\n",
              "      background-color: #434B5C;\n",
              "      box-shadow: 0px 1px 3px 1px rgba(0, 0, 0, 0.15);\n",
              "      filter: drop-shadow(0px 1px 2px rgba(0, 0, 0, 0.3));\n",
              "      fill: #FFFFFF;\n",
              "    }\n",
              "  </style>\n",
              "\n",
              "      <script>\n",
              "        const buttonEl =\n",
              "          document.querySelector('#df-1e0e7569-a352-4d20-b599-60f5f6ad79c3 button.colab-df-convert');\n",
              "        buttonEl.style.display =\n",
              "          google.colab.kernel.accessAllowed ? 'block' : 'none';\n",
              "\n",
              "        async function convertToInteractive(key) {\n",
              "          const element = document.querySelector('#df-1e0e7569-a352-4d20-b599-60f5f6ad79c3');\n",
              "          const dataTable =\n",
              "            await google.colab.kernel.invokeFunction('convertToInteractive',\n",
              "                                                     [key], {});\n",
              "          if (!dataTable) return;\n",
              "\n",
              "          const docLinkHtml = 'Like what you see? Visit the ' +\n",
              "            '<a target=\"_blank\" href=https://colab.research.google.com/notebooks/data_table.ipynb>data table notebook</a>'\n",
              "            + ' to learn more about interactive tables.';\n",
              "          element.innerHTML = '';\n",
              "          dataTable['output_type'] = 'display_data';\n",
              "          await google.colab.output.renderOutput(dataTable, element);\n",
              "          const docLink = document.createElement('div');\n",
              "          docLink.innerHTML = docLinkHtml;\n",
              "          element.appendChild(docLink);\n",
              "        }\n",
              "      </script>\n",
              "    </div>\n",
              "  </div>\n",
              "  "
            ]
          },
          "metadata": {},
          "execution_count": 45
        }
      ],
      "source": [
        "#Add bigrams and trigrams to docs (only ones that appear 50 times or more in this attepmt, which is a random choice).\n",
        "bigram = Phrases(china_lda['features'], min_count=50)\n",
        "for idx in range(len(china_lda['features'])):\n",
        "    for token in bigram[china_lda['features'][idx]]:\n",
        "        if '_' in token:\n",
        "            # Token is a bigram, add to document.\n",
        "            china_lda['features'][idx].append(token)\n",
        "\n",
        "china_lda.head()"
      ]
    },
    {
      "cell_type": "code",
      "execution_count": null,
      "metadata": {
        "id": "gOYS32n06c9b"
      },
      "outputs": [],
      "source": [
        "#Function for calculating coherence scores\n",
        "def coherence_values(dictionary, corpus, texts, limit, start, step):\n",
        "    coherence_values = []\n",
        "    model_list = []\n",
        "    for num_topics in range(start, limit, step):\n",
        "        print('Calculating for',num_topics,'topics')\n",
        "        model = LdaModel(corpus=corpus, num_topics=num_topics)\n",
        "        model_list.append(model)\n",
        "\n",
        "        #You can adjust the method for coherence here (replace 'c_v' with any other method from the list above)\n",
        "        coherencemodel = CoherenceModel(model=model, texts=texts, dictionary=dictionary, coherence='c_v')\n",
        "        coherence_values.append(coherencemodel.get_coherence())\n",
        "    return model_list, coherence_values\n",
        "\n",
        "#create dictionary\n",
        "id2word = corpora.Dictionary(china_lda['features'])\n",
        "\n",
        "\n",
        "#Filter out words that occur in less than 20 documents or more than 50% of the documents. These hyperparameter values aim to exclude non-informative data.\n",
        "id2word.filter_extremes(no_below=10, no_above=0.4)\n",
        "\n",
        "#Create corpus\n",
        "corpus = [id2word.doc2bow(doc) for doc in china_lda['features']]\n",
        "\n",
        "start = 5\n",
        "limit = 20\n",
        "step = 1\n",
        "\n",
        "model_list, coherence_values = coherence_values(dictionary=id2word, corpus=corpus, texts=china_lda['features'], start=start, limit=limit, step=step)"
      ]
    },
    {
      "cell_type": "code",
      "execution_count": null,
      "metadata": {
        "colab": {
          "base_uri": "https://localhost:8080/",
          "height": 714
        },
        "id": "JY_hm8Jl6c6V",
        "outputId": "a1f4ea4e-6f9a-4ade-bc3e-0b03322c72be"
      },
      "outputs": [
        {
          "output_type": "display_data",
          "data": {
            "text/plain": [
              "<Figure size 864x864 with 1 Axes>"
            ],
            "image/png": "[encoded data removed]"
          },
          "metadata": {
            "needs_background": "light"
          }
        }
      ],
      "source": [
        "#Visualise the coherence scores in a plot\n",
        "x = range(start, limit, step)\n",
        "plt.figure(figsize=(12,12))\n",
        "plt.plot(x, coherence_values)\n",
        "plt.xlabel(\"Num Topics\")\n",
        "plt.ylabel(\"Coherence score\")\n",
        "plt.legend((\"coherence_values\"), loc='best')\n",
        "plt.vlines(x[np.argmax(coherence_values)], plt.ylim()[0], plt.ylim()[1],linestyles='dashed')\n",
        "plt.show()"
      ]
    },
    {
      "cell_type": "code",
      "execution_count": null,
      "metadata": {
        "id": "ncGLd1Lq6c1Q"
      },
      "outputs": [],
      "source": [
        "coherence_values"
      ]
    },
    {
      "cell_type": "code",
      "execution_count": null,
      "metadata": {
        "colab": {
          "base_uri": "https://localhost:8080/"
        },
        "id": "vC9B8GL-70Au",
        "outputId": "e87c1533-379c-41f6-ac94-7249b77e8860"
      },
      "outputs": [
        {
          "output_type": "stream",
          "name": "stdout",
          "text": [
            "Num Topics = 5  has Coherence Value of 0.6863\n",
            "Num Topics = 6  has Coherence Value of 0.6866\n",
            "Num Topics = 7  has Coherence Value of 0.7186\n",
            "Num Topics = 8  has Coherence Value of 0.7086\n",
            "Num Topics = 9  has Coherence Value of 0.7167\n",
            "Num Topics = 10  has Coherence Value of 0.7058\n",
            "Num Topics = 11  has Coherence Value of 0.7015\n",
            "Num Topics = 12  has Coherence Value of 0.7205\n",
            "Num Topics = 13  has Coherence Value of 0.721\n",
            "Num Topics = 14  has Coherence Value of 0.7187\n",
            "Num Topics = 15  has Coherence Value of 0.7142\n",
            "Num Topics = 16  has Coherence Value of 0.721\n",
            "Num Topics = 17  has Coherence Value of 0.722\n",
            "Num Topics = 18  has Coherence Value of 0.7218\n",
            "Num Topics = 19  has Coherence Value of 0.7085\n"
          ]
        }
      ],
      "source": [
        "#list the coherence scores\n",
        "for m, cv in zip(x, coherence_values):\n",
        "    print(\"Num Topics =\", m, \" has Coherence Value of\", round(cv, 4))"
      ]
    },
    {
      "cell_type": "code",
      "execution_count": null,
      "metadata": {
        "colab": {
          "base_uri": "https://localhost:8080/"
        },
        "id": "Znin8k9p70EU",
        "outputId": "cb0be3de-75f6-4c40-f5d9-4ee9e063e825"
      },
      "outputs": [
        {
          "output_type": "execute_result",
          "data": {
            "text/plain": [
              "[(0,\n",
              "  '0.022*\"want\" + 0.019*\"sale\" + 0.017*\"report\" + 0.017*\"startup\" + 0.015*\"today\" + 0.015*\"big\" + 0.014*\"say\" + 0.014*\"year\" + 0.014*\"company\" + 0.014*\"first\"'),\n",
              " (1,\n",
              "  '0.045*\"business\" + 0.031*\"e_commerce\" + 0.026*\"supply_chain\" + 0.022*\"son_business\" + 0.021*\"e\" + 0.020*\"elaborate_conspiracy\" + 0.020*\"nbcnews_page\" + 0.020*\"theory_involving\" + 0.020*\"document_asserting\" + 0.020*\"made\"'),\n",
              " (2,\n",
              "  '0.042*\"news\" + 0.034*\"offer\" + 0.025*\"phone\" + 0.025*\"chinese\" + 0.025*\"mobile\" + 0.019*\"smartphone\" + 0.017*\"market\" + 0.017*\"get\" + 0.013*\"g\" + 0.012*\"time\"'),\n",
              " (3,\n",
              "  '0.023*\"firm\" + 0.021*\"trump\" + 0.019*\"approves_trademark\" + 0.017*\"trade_war\" + 0.016*\"war\" + 0.015*\"trade\" + 0.014*\"leading\" + 0.013*\"security\" + 0.013*\"trump_linked\" + 0.013*\"project_receives\"'),\n",
              " (4,\n",
              "  '0.031*\"facial_recognition\" + 0.026*\"new\" + 0.026*\"high\" + 0.022*\"free_turn\" + 0.018*\"system\" + 0.018*\"build\" + 0.017*\"building\" + 0.016*\"built_brand\" + 0.016*\"including\" + 0.015*\"gadget\"'),\n",
              " (5,\n",
              "  '0.043*\"company\" + 0.024*\"chinese\" + 0.020*\"american_company\" + 0.017*\"set\" + 0.016*\"american\" + 0.016*\"market\" + 0.013*\"ban\" + 0.013*\"military\" + 0.012*\"share\" + 0.012*\"high\"'),\n",
              " (6,\n",
              "  '0.027*\"chinese\" + 0.022*\"government\" + 0.015*\"rare_earth\" + 0.013*\"drone\" + 0.013*\"investment\" + 0.012*\"solar\" + 0.011*\"key\" + 0.011*\"world\" + 0.010*\"news\" + 0.010*\"electric_car\"'),\n",
              " (7,\n",
              "  '0.037*\"internet\" + 0.027*\"apple\" + 0.021*\"stock\" + 0.020*\"news\" + 0.015*\"high\" + 0.014*\"talk\" + 0.012*\"rate_cut\" + 0.012*\"trade\" + 0.011*\"say\" + 0.010*\"year\"'),\n",
              " (8,\n",
              "  '0.045*\"world\" + 0.031*\"world_largest\" + 0.024*\"largest\" + 0.021*\"top\" + 0.016*\"chinese\" + 0.015*\"let\" + 0.013*\"power\" + 0.012*\"space\" + 0.011*\"market\" + 0.011*\"firm\"'),\n",
              " (9,\n",
              "  '0.030*\"’\" + 0.029*\"’_difference\" + 0.028*\"speech_directed\" + 0.028*\"denial_free\" + 0.024*\"free\" + 0.018*\"plan\" + 0.018*\"u\" + 0.016*\"week\" + 0.016*\"speech\" + 0.015*\"directed\"'),\n",
              " (10,\n",
              "  '0.017*\"medium\" + 0.015*\"robot\" + 0.014*\"social\" + 0.014*\"giant\" + 0.014*\"video\" + 0.013*\"social_medium\" + 0.012*\"rise\" + 0.011*\"growing\" + 0.011*\"led\" + 0.010*\"state\"')]"
            ]
          },
          "metadata": {},
          "execution_count": 51
        }
      ],
      "source": [
        "#Adjust num_topics to nmuber of topics with highest coherence score. Check if the results are intepretable as topics.\n",
        "#It perfectly fine to try different numbers of topics as coherence score merely offer orientation but do not necessarily indicate clear topics.\n",
        "model = LdaModel(corpus=corpus, num_topics=11,id2word=id2word)\n",
        "model.print_topics()"
      ]
    },
    {
      "cell_type": "markdown",
      "metadata": {
        "id": "xGAwxEdHQBee"
      },
      "source": [
        "### LDA India"
      ]
    },
    {
      "cell_type": "markdown",
      "metadata": {
        "id": "4MWRILeMNgnh"
      },
      "source": [
        "This section use LDA method to analyze the tweets that mention India. Recall the overall research goal was to find how tech is discussed (framed) in Chinese adn Indian seettings. LDA similar to TF-IDF & K-Means helps us answer that questions by focusing topics which is definied as repeated co-occurance of terms (Nguyen, 2022). LDA find topics in the given text. Condering that all the tweets are about tech, this method will allow us to find topics around the tech frame in Indian context."
      ]
    },
    {
      "cell_type": "code",
      "execution_count": null,
      "metadata": {
        "id": "ARicMhF6Qcww"
      },
      "outputs": [],
      "source": [
        "#Use the pre-processed text from the dataframes - first try with the full dataset, then the selection\n",
        "india_lda = india_sample['features'].copy()\n",
        "#articles = selection['features'].copy()\n",
        "india_lda = india_lda.reset_index()"
      ]
    },
    {
      "cell_type": "code",
      "execution_count": null,
      "metadata": {
        "id": "n7V_2h60Qc5O"
      },
      "outputs": [],
      "source": [
        "#Tokenize the texts - there are different methods that students learned about. This one uses NLTK.\n",
        "india_lda['features'] =  india_lda['features'].apply(word_tokenize)\n",
        "india_lda['features'].head()"
      ]
    },
    {
      "cell_type": "code",
      "execution_count": null,
      "metadata": {
        "id": "RA57dbOxQc6x"
      },
      "outputs": [],
      "source": [
        "#Function to remove words - sometimes when exploring the results, some words make the results less informative.\n",
        "#These can be filtered out with this function.\n",
        "def remove_sw(x):\n",
        "    # remove stopwords\n",
        "    x = [token for token in x if not token in stop_words]\n",
        "    return x\n",
        "\n",
        "stop_words = stopwords.words('english')\n",
        "\n",
        "#I noticed some words that messed with the results, so I removed them via stopwords. Students need to figure this out themselves!\n",
        "new_sw = ['ai', 'artificial intelligence', 'tech', 'technology']\n",
        "stop_words.extend(new_sw)"
      ]
    },
    {
      "cell_type": "code",
      "execution_count": null,
      "metadata": {
        "id": "7by-yEiWQc8v"
      },
      "outputs": [],
      "source": [
        "india_lda['features'] = india_lda['features'].apply(lambda x: remove_sw(x))"
      ]
    },
    {
      "cell_type": "code",
      "execution_count": null,
      "metadata": {
        "id": "GUqenbueQc_g"
      },
      "outputs": [],
      "source": [
        "#Add bigrams and trigrams to docs (only ones that appear 50 times or more in this attepmt, which is a random choice).\n",
        "bigram = Phrases(india_lda['features'], min_count=50)\n",
        "for idx in range(len(india_lda['features'])):\n",
        "    for token in bigram[india_lda['features'][idx]]:\n",
        "        if '_' in token:\n",
        "            # Token is a bigram, add to document.\n",
        "            india_lda['features'][idx].append(token)\n",
        "\n",
        "india_lda.head()"
      ]
    },
    {
      "cell_type": "code",
      "execution_count": null,
      "metadata": {
        "id": "5dc4G3v4Qyq2",
        "colab": {
          "base_uri": "https://localhost:8080/"
        },
        "outputId": "8f8004fb-4955-428c-d74c-7ffb22fcf146"
      },
      "outputs": [
        {
          "output_type": "stream",
          "name": "stderr",
          "text": [
            "WARNING:gensim.models.ldamodel:no word id mapping provided; initializing from corpus, assuming identity\n"
          ]
        },
        {
          "output_type": "stream",
          "name": "stdout",
          "text": [
            "Calculating for 5 topics\n"
          ]
        },
        {
          "output_type": "stream",
          "name": "stderr",
          "text": [
            "WARNING:gensim.models.ldamodel:no word id mapping provided; initializing from corpus, assuming identity\n"
          ]
        },
        {
          "output_type": "stream",
          "name": "stdout",
          "text": [
            "Calculating for 6 topics\n"
          ]
        },
        {
          "output_type": "stream",
          "name": "stderr",
          "text": [
            "WARNING:gensim.models.ldamodel:no word id mapping provided; initializing from corpus, assuming identity\n"
          ]
        },
        {
          "output_type": "stream",
          "name": "stdout",
          "text": [
            "Calculating for 7 topics\n"
          ]
        },
        {
          "output_type": "stream",
          "name": "stderr",
          "text": [
            "WARNING:gensim.models.ldamodel:no word id mapping provided; initializing from corpus, assuming identity\n"
          ]
        },
        {
          "output_type": "stream",
          "name": "stdout",
          "text": [
            "Calculating for 8 topics\n"
          ]
        },
        {
          "output_type": "stream",
          "name": "stderr",
          "text": [
            "WARNING:gensim.models.ldamodel:no word id mapping provided; initializing from corpus, assuming identity\n"
          ]
        },
        {
          "output_type": "stream",
          "name": "stdout",
          "text": [
            "Calculating for 9 topics\n"
          ]
        },
        {
          "output_type": "stream",
          "name": "stderr",
          "text": [
            "WARNING:gensim.models.ldamodel:no word id mapping provided; initializing from corpus, assuming identity\n"
          ]
        },
        {
          "output_type": "stream",
          "name": "stdout",
          "text": [
            "Calculating for 10 topics\n"
          ]
        },
        {
          "output_type": "stream",
          "name": "stderr",
          "text": [
            "WARNING:gensim.models.ldamodel:no word id mapping provided; initializing from corpus, assuming identity\n"
          ]
        },
        {
          "output_type": "stream",
          "name": "stdout",
          "text": [
            "Calculating for 11 topics\n"
          ]
        },
        {
          "output_type": "stream",
          "name": "stderr",
          "text": [
            "WARNING:gensim.models.ldamodel:no word id mapping provided; initializing from corpus, assuming identity\n"
          ]
        },
        {
          "output_type": "stream",
          "name": "stdout",
          "text": [
            "Calculating for 12 topics\n"
          ]
        },
        {
          "output_type": "stream",
          "name": "stderr",
          "text": [
            "WARNING:gensim.models.ldamodel:no word id mapping provided; initializing from corpus, assuming identity\n"
          ]
        },
        {
          "output_type": "stream",
          "name": "stdout",
          "text": [
            "Calculating for 13 topics\n"
          ]
        },
        {
          "output_type": "stream",
          "name": "stderr",
          "text": [
            "WARNING:gensim.models.ldamodel:no word id mapping provided; initializing from corpus, assuming identity\n"
          ]
        },
        {
          "output_type": "stream",
          "name": "stdout",
          "text": [
            "Calculating for 14 topics\n"
          ]
        },
        {
          "output_type": "stream",
          "name": "stderr",
          "text": [
            "WARNING:gensim.models.ldamodel:no word id mapping provided; initializing from corpus, assuming identity\n"
          ]
        },
        {
          "output_type": "stream",
          "name": "stdout",
          "text": [
            "Calculating for 15 topics\n"
          ]
        },
        {
          "output_type": "stream",
          "name": "stderr",
          "text": [
            "WARNING:gensim.models.ldamodel:no word id mapping provided; initializing from corpus, assuming identity\n"
          ]
        },
        {
          "output_type": "stream",
          "name": "stdout",
          "text": [
            "Calculating for 16 topics\n"
          ]
        },
        {
          "output_type": "stream",
          "name": "stderr",
          "text": [
            "WARNING:gensim.models.ldamodel:no word id mapping provided; initializing from corpus, assuming identity\n"
          ]
        },
        {
          "output_type": "stream",
          "name": "stdout",
          "text": [
            "Calculating for 17 topics\n"
          ]
        },
        {
          "output_type": "stream",
          "name": "stderr",
          "text": [
            "WARNING:gensim.models.ldamodel:no word id mapping provided; initializing from corpus, assuming identity\n"
          ]
        },
        {
          "output_type": "stream",
          "name": "stdout",
          "text": [
            "Calculating for 18 topics\n"
          ]
        },
        {
          "output_type": "stream",
          "name": "stderr",
          "text": [
            "WARNING:gensim.models.ldamodel:no word id mapping provided; initializing from corpus, assuming identity\n"
          ]
        },
        {
          "output_type": "stream",
          "name": "stdout",
          "text": [
            "Calculating for 19 topics\n"
          ]
        }
      ],
      "source": [
        "#Function for calculating coherence scores\n",
        "def coherence_values(dictionary, corpus, texts, limit, start, step):\n",
        "    coherence_values = []\n",
        "    model_list = []\n",
        "    for num_topics in range(start, limit, step):\n",
        "        print('Calculating for',num_topics,'topics')\n",
        "        model = LdaModel(corpus=corpus, num_topics=num_topics)\n",
        "        model_list.append(model)\n",
        "\n",
        "        coherencemodel = CoherenceModel(model=model, texts=texts, dictionary=dictionary, coherence='c_v')\n",
        "        coherence_values.append(coherencemodel.get_coherence())\n",
        "    return model_list, coherence_values\n",
        "\n",
        "#create dictionary\n",
        "id2word = corpora.Dictionary(india_lda['features'])\n",
        "\n",
        "\n",
        "#Filter out words that occur in less than 20 documents or more than 50% of the documents. These hyperparameter values aim to exclude non-informative data.\n",
        "id2word.filter_extremes(no_below=10, no_above=0.4)\n",
        "\n",
        "#Create corpus\n",
        "corpus = [id2word.doc2bow(doc) for doc in india_lda['features']]\n",
        "\n",
        "start = 5\n",
        "limit = 20\n",
        "step = 1\n",
        "\n",
        "model_list, coherence_values = coherence_values(dictionary=id2word, corpus=corpus, texts=india_lda['features'], start=start, limit=limit, step=step)"
      ]
    },
    {
      "cell_type": "code",
      "execution_count": null,
      "metadata": {
        "id": "8wx55E41Qyns",
        "colab": {
          "base_uri": "https://localhost:8080/",
          "height": 714
        },
        "outputId": "3f36c623-130f-4343-a128-d08701def93e"
      },
      "outputs": [
        {
          "output_type": "display_data",
          "data": {
            "text/plain": [
              "<Figure size 864x864 with 1 Axes>"
            ],
            "image/png": "[encoded data removed]"
          },
          "metadata": {
            "needs_background": "light"
          }
        }
      ],
      "source": [
        "#Visualise the coherence scores in a plot\n",
        "x = range(start, limit, step)\n",
        "plt.figure(figsize=(12,12))\n",
        "plt.plot(x, coherence_values)\n",
        "plt.xlabel(\"Num Topics\")\n",
        "plt.ylabel(\"Coherence score\")\n",
        "plt.legend((\"coherence_values\"), loc='best')\n",
        "plt.vlines(x[np.argmax(coherence_values)], plt.ylim()[0], plt.ylim()[1],linestyles='dashed')\n",
        "plt.show()"
      ]
    },
    {
      "cell_type": "code",
      "execution_count": null,
      "metadata": {
        "id": "YbjJ-rvEQyke",
        "colab": {
          "base_uri": "https://localhost:8080/"
        },
        "outputId": "476a6eaa-59b1-464d-9335-0d87e95d6b91"
      },
      "outputs": [
        {
          "output_type": "execute_result",
          "data": {
            "text/plain": [
              "[0.2879549398734709,\n",
              " 0.29536399269226404,\n",
              " 0.2866791774895287,\n",
              " 0.38201309697671737,\n",
              " 0.34311657004473145,\n",
              " 0.32340870555310547,\n",
              " 0.36868538369644166,\n",
              " 0.3622242155533321,\n",
              " 0.3645856628789587,\n",
              " 0.36569564343688593,\n",
              " 0.3833939701445763,\n",
              " 0.3754453588730916,\n",
              " 0.3756068905209264,\n",
              " 0.4071234681038563,\n",
              " 0.4020746002026707]"
            ]
          },
          "metadata": {},
          "execution_count": 82
        }
      ],
      "source": [
        "coherence_values"
      ]
    },
    {
      "cell_type": "code",
      "execution_count": null,
      "metadata": {
        "id": "S9GF_u8rQyiJ",
        "colab": {
          "base_uri": "https://localhost:8080/"
        },
        "outputId": "92a00a06-cac7-4a15-d472-80c47703d8d9"
      },
      "outputs": [
        {
          "output_type": "stream",
          "name": "stdout",
          "text": [
            "Num Topics = 5  has Coherence Value of 0.288\n",
            "Num Topics = 6  has Coherence Value of 0.2954\n",
            "Num Topics = 7  has Coherence Value of 0.2867\n",
            "Num Topics = 8  has Coherence Value of 0.382\n",
            "Num Topics = 9  has Coherence Value of 0.3431\n",
            "Num Topics = 10  has Coherence Value of 0.3234\n",
            "Num Topics = 11  has Coherence Value of 0.3687\n",
            "Num Topics = 12  has Coherence Value of 0.3622\n",
            "Num Topics = 13  has Coherence Value of 0.3646\n",
            "Num Topics = 14  has Coherence Value of 0.3657\n",
            "Num Topics = 15  has Coherence Value of 0.3834\n",
            "Num Topics = 16  has Coherence Value of 0.3754\n",
            "Num Topics = 17  has Coherence Value of 0.3756\n",
            "Num Topics = 18  has Coherence Value of 0.4071\n",
            "Num Topics = 19  has Coherence Value of 0.4021\n"
          ]
        }
      ],
      "source": [
        "#list the coherence scores\n",
        "for m, cv in zip(x, coherence_values):\n",
        "    print(\"Num Topics =\", m, \" has Coherence Value of\", round(cv, 4))"
      ]
    },
    {
      "cell_type": "code",
      "execution_count": null,
      "metadata": {
        "id": "afzBW3SRQyfj",
        "colab": {
          "base_uri": "https://localhost:8080/"
        },
        "outputId": "3a1479f6-ca2a-4f0f-c399-5011158313d6"
      },
      "outputs": [
        {
          "output_type": "execute_result",
          "data": {
            "text/plain": [
              "[(0,\n",
              "  '0.038*\"top\" + 0.017*\"look\" + 0.016*\"call\" + 0.015*\"win\" + 0.013*\"space\" + 0.013*\"ban\" + 0.012*\"apps\" + 0.012*\"company\" + 0.012*\"face\" + 0.011*\"answer\"'),\n",
              " (1,\n",
              "  '0.037*\"year\" + 0.029*\"internet\" + 0.024*\"data\" + 0.021*\"user\" + 0.019*\"next\" + 0.017*\"medium\" + 0.017*\"social\" + 0.014*\"job\" + 0.013*\"social_medium\" + 0.012*\"growing\"'),\n",
              " (2,\n",
              "  '0.026*\"startup\" + 0.024*\"support\" + 0.017*\"investment\" + 0.013*\"cloud\" + 0.013*\"sector\" + 0.012*\"good\" + 0.012*\"innovation\" + 0.011*\"global\" + 0.011*\"web\" + 0.011*\"talk\"'),\n",
              " (3,\n",
              "  '0.040*\"launched\" + 0.039*\"r\" + 0.032*\"launch\" + 0.030*\"smartphone\" + 0.027*\"market\" + 0.025*\"price\" + 0.024*\"phone\" + 0.022*\"mobile\" + 0.016*\"go\" + 0.016*\"smartphones\"'),\n",
              " (4,\n",
              "  '0.062*\"sale\" + 0.057*\"g\" + 0.048*\"starting\" + 0.034*\"set\" + 0.031*\"feature\" + 0.022*\"wonder\" + 0.022*\"celebrate\" + 0.022*\"shop\" + 0.020*\"alert\" + 0.020*\"grab\"'),\n",
              " (5,\n",
              "  '0.027*\"today\" + 0.024*\"new\" + 0.023*\"indian\" + 0.019*\"time\" + 0.018*\"government\" + 0.018*\"first\" + 0.017*\"news\" + 0.013*\"thing\" + 0.012*\"get\" + 0.012*\"state\"'),\n",
              " (6,\n",
              "  '0.054*\"startup\" + 0.031*\"indian\" + 0.021*\"company\" + 0.019*\"big\" + 0.018*\"start\" + 0.015*\"year\" + 0.014*\"available\" + 0.014*\"see\" + 0.012*\"e\" + 0.011*\"hub\"'),\n",
              " (7,\n",
              "  '0.058*\"launch\" + 0.047*\"news\" + 0.022*\"plan\" + 0.018*\"offer\" + 0.013*\"’\" + 0.012*\"free\" + 0.012*\"mobile\" + 0.012*\"camera\" + 0.011*\"service\" + 0.011*\"report\"'),\n",
              " (8,\n",
              "  '0.028*\"say\" + 0.023*\"high\" + 0.020*\"coming\" + 0.020*\"apple\" + 0.016*\"city\" + 0.015*\"firm\" + 0.013*\"month\" + 0.013*\"software\" + 0.013*\"talent\" + 0.011*\"country\"'),\n",
              " (9,\n",
              "  '0.026*\"app\" + 0.016*\"store\" + 0.015*\"crore\" + 0.015*\"event\" + 0.013*\"help\" + 0.012*\"buy\" + 0.012*\"woman\" + 0.012*\"toitech\" + 0.011*\"deal\" + 0.011*\"follow\"'),\n",
              " (10,\n",
              "  '0.044*\"job\" + 0.016*\"visit\" + 0.015*\"announces\" + 0.014*\"breaking\" + 0.013*\"official\" + 0.012*\"opportunity\" + 0.012*\"want\" + 0.011*\"head\" + 0.011*\"stock\" + 0.011*\"meet\"')]"
            ]
          },
          "metadata": {},
          "execution_count": 84
        }
      ],
      "source": [
        "#Adjust num_topics to nmuber of topics with highest coherence score. Check if the results are intepretable as topics.\n",
        "#It perfectly fine to try different numbers of topics as coherence score merely offer orientation but do not necessarily indicate clear topics.\n",
        "model = LdaModel(corpus=corpus, num_topics=11,id2word=id2word)\n",
        "model.print_topics()"
      ]
    },
    {
      "cell_type": "code",
      "execution_count": null,
      "metadata": {
        "id": "qbV2vRDmQydL"
      },
      "outputs": [],
      "source": []
    },
    {
      "cell_type": "markdown",
      "metadata": {
        "id": "u2OB27sZbetv"
      },
      "source": [
        "## Question 2.3"
      ]
    },
    {
      "cell_type": "markdown",
      "metadata": {
        "id": "1WGn9AIXbweQ"
      },
      "source": [
        "*Discuss your results critically:*\n",
        "\n",
        "1.   *What can we learn about the dicussion of technologies in the Indian and Chinese cases?*\n",
        "2.   *What are the limitations of your chosen methods but also the data?*\n",
        "\n",
        "*The written answers should not exceed 500 words in total.*"
      ]
    },
    {
      "cell_type": "markdown",
      "metadata": {
        "id": "EKg_HFrfbfog"
      },
      "source": [
        "**TF-IDF & K-Means Clustering:**\n",
        "\n",
        "Looking at the first few topic sets, tweets from Chineese case seem to be more about business. On the other the tweets from the Indian case apper to be more about sales of technological tools. Although tweets from both case include a lot of smartphone related concepts, this seems to be more dominant in the Indian tweets. The later topics align with what I've just said. In the Chinese case, we continue seeing topics around business concepts such as startup, market and compnay. However, the presence of portable electronics reduces. More interestingly, the latter tweets reflects the signs of Covid-19 pandemic. On the other hand, The Indian tweets continues to be about technological devices such smartphone or tablet.\n",
        "\n",
        "**LDA:**\n",
        "\n",
        "In the LDA model, Chinese tweets are contain more signs of business and less sign of portable electronics. Additionally, in the LDA model, the number of topics are higher for China. On the other hand, for the Indian case, there is way less concepts related to phone, table or mobile. For the Indian tweets, the topics seems to be more diverse in LDA.  \n",
        "\n",
        "\n",
        "**Limitations:**\n",
        "Starting with the data, I had to use a sample of the data instead of the whole data due to computational and time limitations. Although, I feel comfortable with the representability of the data, it could prove better to use the whole data. However, even if I used the whole data, the results might not be globally optimal as the data is collected from a signle resouce, twitter, which is used by certain part of the population. Moving to the model limitations, K-Means Clustering requires us to determine cluster sice beforehand. Since this model use tf-idf, it also does not take into account the context words or order. Moving to LDA model, this model is sensitive to hyperparemter choices. LDA assumes there is a fixed number of topics. Choosing the wrong number of topics can result in suboptimal outcomes.\n",
        "\n"
      ]
    },
    {
      "cell_type": "markdown",
      "metadata": {
        "id": "KugUK8oEjwLJ"
      },
      "source": [
        "# Task 3 (20 points)"
      ]
    },
    {
      "cell_type": "markdown",
      "metadata": {
        "id": "H_iQuTGpkUmN"
      },
      "source": [
        "### Question 3.1"
      ]
    },
    {
      "cell_type": "markdown",
      "metadata": {
        "id": "iIwRCs6UB6cb"
      },
      "source": [
        "The file Q3_clickbait.csv contains ca. 32.000 articles titles that were labelled for either “clickbait” or “no-clickbait” (binary labelling, 1= “clickbait”, 0= “no-clickbait”). Your task is to dive a bit deeper into what features make a title \"clickbait\"."
      ]
    },
    {
      "cell_type": "markdown",
      "metadata": {
        "id": "RVhlTysSkesE"
      },
      "source": [
        "Identify the top 15 NOUNS most strongly associated with “clickbait”. Choose a method for pre-processing the texts prior to analysis that allows you to do this. Discuss and explain why these words are indicative for the “clickbait” category (or why not). Does it make sense to focus on NOUNS only?"
      ]
    },
    {
      "cell_type": "code",
      "source": [
        "path = \"/content/drive/MyDrive/INFOMCDMMC/Q3_clickbait.csv\"\n",
        "df_q3 = pd.read_csv(path)\n",
        "df_q3.head()"
      ],
      "metadata": {
        "id": "00Jot1n0tja3"
      },
      "execution_count": null,
      "outputs": []
    },
    {
      "cell_type": "code",
      "execution_count": null,
      "metadata": {
        "id": "kfK1l_MPlxQG"
      },
      "outputs": [],
      "source": [
        "#First, convert the 'tweet' column into strings\n",
        "df_q3['title'] = df_q3['title'].astype(str)\n",
        "\n",
        "#Function for NLP for separating features (Spacy)\n",
        "def do_nlp(x):\n",
        "    doc = nlp(x)\n",
        "    return doc\n",
        "\n",
        "#Create new column with words separated\n",
        "df_q3['title_nlp'] = df_q3['title'].apply(lambda x: do_nlp(x))\n",
        "df_q3.head()\n",
        "\n",
        "\n",
        "#Function to include only nouns\n",
        "def include_features(x):\n",
        "    include_features = ['NOUN'] #extract the nouns\n",
        "    text = ' '.join([ent.text for ent in x if ent.pos_ in include_features])\n",
        "    return text\n",
        "\n",
        "df_q3['features'] = df_q3['title_nlp'].apply(lambda x: include_features(x))\n",
        "df_q3['features'].head()\n",
        "\n",
        "\n",
        "# Clean up the texts (lowercase, remove symbols, numbers, stopwords etc.)\n",
        "import nltk\n",
        "nltk.download('wordnet')\n",
        "nltk.download('omw-1.4')\n",
        "\n",
        "def clean_text(x):\n",
        "    x = x.lower()\n",
        "    re.sub(r'\\s+', '', x) #remove white space\n",
        "    x = x.translate(str.maketrans('', '', string.punctuation)) #most punctuations have been removed in step A.3\n",
        "    # tokenize\n",
        "    x = nltk.word_tokenize(x)\n",
        "    x = [token for token in x if token not in stop_words]\n",
        "    # lemmatization and pass string back\n",
        "    x = ' '.join([lemmatizer.lemmatize(w) for w in x])\n",
        "    return x\n",
        "\n",
        "\n",
        "df_q3['features'] = df_q3['features'].apply(lambda x: clean_text(x))\n",
        "\n",
        "# Remove empty strings from the features column\n",
        "df_q3 = df_q3[df_q3['features'] != '']\n",
        "\n",
        "df_q3['features'].head()"
      ]
    },
    {
      "cell_type": "code",
      "source": [
        "# Create a new data frame out of article titles that were labelled 'clickbait'.\n",
        "df_clickbait = df_q3[df_q3.label == 1]"
      ],
      "metadata": {
        "id": "4asKcGl4bUBW"
      },
      "execution_count": null,
      "outputs": []
    },
    {
      "cell_type": "code",
      "execution_count": null,
      "metadata": {
        "id": "trDsnf4Tw7ye",
        "colab": {
          "base_uri": "https://localhost:8080/"
        },
        "outputId": "6b2bb151-364c-4e6e-db78-a51652dab17a"
      },
      "outputs": [
        {
          "output_type": "execute_result",
          "data": {
            "text/plain": [
              "[('thing', 466),\n",
              " ('people', 288),\n",
              " ('sign', 171),\n",
              " ('time', 151),\n",
              " ('life', 142),\n",
              " ('photo', 111),\n",
              " ('question', 94),\n",
              " ('reason', 88),\n",
              " ('year', 83),\n",
              " ('character', 81),\n",
              " ('way', 81),\n",
              " ('picture', 79),\n",
              " ('thing people', 71),\n",
              " ('test', 64),\n",
              " ('woman', 58)]"
            ]
          },
          "metadata": {},
          "execution_count": 30
        }
      ],
      "source": [
        "# Show the 15 most frequent words\n",
        "from collections import Counter\n",
        "tokenized_text = df_clickbait['features'].values\n",
        "word_counts = Counter(tokenized_text)\n",
        "print(\"These are the most common adjectives:\", word_counts.most_common()[:15])\n"
      ]
    },
    {
      "cell_type": "markdown",
      "metadata": {
        "id": "Xzvcq6x3L5fU"
      },
      "source": [
        "Question 3.2¶"
      ]
    },
    {
      "cell_type": "markdown",
      "source": [
        "####LDA Clickbait"
      ],
      "metadata": {
        "id": "NYwvdxl3wRgS"
      }
    },
    {
      "cell_type": "code",
      "source": [
        "#Tokenize the texts\n",
        "df_clickbait['features'] =  df_clickbait['features'].apply(word_tokenize)\n",
        "df_clickbait['features'].head()"
      ],
      "metadata": {
        "id": "4QrF9fZKwKq_"
      },
      "execution_count": null,
      "outputs": []
    },
    {
      "cell_type": "code",
      "source": [
        "#Function for calculating coherence scores\n",
        "def coherence_values(dictionary, corpus, texts, limit, start, step):\n",
        "    coherence_values = []\n",
        "    model_list = []\n",
        "    for num_topics in range(start, limit, step):\n",
        "        print('Calculating for',num_topics,'topics')\n",
        "        model = LdaModel(corpus=corpus, num_topics=num_topics)\n",
        "        model_list.append(model)\n",
        "\n",
        "\n",
        "        coherencemodel = CoherenceModel(model=model, texts=texts, dictionary=dictionary, coherence='c_v')\n",
        "        coherence_values.append(coherencemodel.get_coherence())\n",
        "    return model_list, coherence_values\n",
        "\n",
        "#create dictionary\n",
        "id2word = corpora.Dictionary(df_clickbait['features'])\n",
        "\n",
        "\n",
        "#Filter out words that occur in less than 20 documents or more than 50% of the documents. These hyperparameter values aim to exclude non-informative data.\n",
        "id2word.filter_extremes(no_below=10, no_above=0.4)\n",
        "\n",
        "#Create corpus\n",
        "corpus = [id2word.doc2bow(doc) for doc in df_clickbait['features']]\n",
        "#corpus = [dictionary.doc2bow(doc) for doc in articles['features']]\n",
        "\n",
        "start = 5\n",
        "limit = 20\n",
        "step = 1\n",
        "\n",
        "model_list, coherence_values = coherence_values(dictionary=id2word, corpus=corpus, texts=df_non_clickbait['features'], start=start, limit=limit, step=step)"
      ],
      "metadata": {
        "id": "ojOmUtD3wKtd"
      },
      "execution_count": null,
      "outputs": []
    },
    {
      "cell_type": "code",
      "source": [
        "#Visualise the coherence scores in a plot\n",
        "x = range(start, limit, step)\n",
        "plt.figure(figsize=(12,12))\n",
        "plt.plot(x, coherence_values)\n",
        "plt.xlabel(\"Num Topics\")\n",
        "plt.ylabel(\"Coherence score\")\n",
        "plt.legend((\"coherence_values\"), loc='best')\n",
        "plt.vlines(x[np.argmax(coherence_values)], plt.ylim()[0], plt.ylim()[1],linestyles='dashed')\n",
        "plt.show()"
      ],
      "metadata": {
        "id": "b0mfWSQfwKvt"
      },
      "execution_count": null,
      "outputs": []
    },
    {
      "cell_type": "code",
      "source": [
        "coherence_values"
      ],
      "metadata": {
        "id": "1idT3EbzwKx1"
      },
      "execution_count": null,
      "outputs": []
    },
    {
      "cell_type": "code",
      "source": [
        "#list the coherence scores\n",
        "for m, cv in zip(x, coherence_values):\n",
        "    print(\"Num Topics =\", m, \" has Coherence Value of\", round(cv, 4))"
      ],
      "metadata": {
        "id": "tuzRvcrvwK10"
      },
      "execution_count": null,
      "outputs": []
    },
    {
      "cell_type": "code",
      "source": [
        "# Topics\n",
        "model = LdaModel(corpus=corpus, num_topics=11,id2word=id2word)\n",
        "model.print_topics()"
      ],
      "metadata": {
        "id": "ClqgVl11wK4K"
      },
      "execution_count": null,
      "outputs": []
    },
    {
      "cell_type": "markdown",
      "source": [
        "More about popular culture, happy topics."
      ],
      "metadata": {
        "id": "U2bevB--lfZZ"
      }
    },
    {
      "cell_type": "markdown",
      "source": [
        "####LDA Non-Clickbait"
      ],
      "metadata": {
        "id": "5SKNLniswhBl"
      }
    },
    {
      "cell_type": "code",
      "source": [
        "# Extract and clean non-clickbait\n",
        "df_non_clickbait = df_q3[df_q3.label == 0]"
      ],
      "metadata": {
        "id": "TSImWYYcawvd"
      },
      "execution_count": null,
      "outputs": []
    },
    {
      "cell_type": "code",
      "source": [
        "df_non_clickbait.head()"
      ],
      "metadata": {
        "id": "otafQVsTn5Ik"
      },
      "execution_count": null,
      "outputs": []
    },
    {
      "cell_type": "code",
      "source": [
        "#Tokenize the texts - there are different methods that students learned about. This one uses NLTK.\n",
        "df_non_clickbait['features'] =  df_non_clickbait['features'].apply(word_tokenize)\n",
        "df_non_clickbait['features'].head()"
      ],
      "metadata": {
        "id": "NlFp0wjWvUBc"
      },
      "execution_count": null,
      "outputs": []
    },
    {
      "cell_type": "code",
      "execution_count": null,
      "metadata": {
        "id": "BAkBvCIqCu0C"
      },
      "outputs": [],
      "source": [
        "#Function for calculating coherence scores\n",
        "def coherence_values(dictionary, corpus, texts, limit, start, step):\n",
        "    coherence_values = []\n",
        "    model_list = []\n",
        "    for num_topics in range(start, limit, step):\n",
        "        print('Calculating for',num_topics,'topics')\n",
        "        model = LdaModel(corpus=corpus, num_topics=num_topics)\n",
        "        model_list.append(model)\n",
        "\n",
        "\n",
        "        coherencemodel = CoherenceModel(model=model, texts=texts, dictionary=dictionary, coherence='c_v')\n",
        "        coherence_values.append(coherencemodel.get_coherence())\n",
        "    return model_list, coherence_values\n",
        "\n",
        "#create dictionary\n",
        "id2word = corpora.Dictionary(df_non_clickbait['features'])\n",
        "\n",
        "#Create a dictionary representation of the documents.\n",
        "#dictionary = Dictionary(articles['features'])\n",
        "\n",
        "#Filter out words that occur in less than 20 documents or more than 50% of the documents. These hyperparameter values aim to exclude non-informative data.\n",
        "id2word.filter_extremes(no_below=10, no_above=0.4)\n",
        "\n",
        "#Create corpus\n",
        "corpus = [id2word.doc2bow(doc) for doc in df_non_clickbait['features']]\n",
        "#corpus = [dictionary.doc2bow(doc) for doc in articles['features']]\n",
        "\n",
        "start = 5\n",
        "limit = 20\n",
        "step = 1\n",
        "\n",
        "model_list, coherence_values = coherence_values(dictionary=id2word, corpus=corpus, texts=df_non_clickbait['features'], start=start, limit=limit, step=step)"
      ]
    },
    {
      "cell_type": "code",
      "source": [
        "#Visualise the coherence scores in a plot\n",
        "x = range(start, limit, step)\n",
        "plt.figure(figsize=(12,12))\n",
        "plt.plot(x, coherence_values)\n",
        "plt.xlabel(\"Num Topics\")\n",
        "plt.ylabel(\"Coherence score\")\n",
        "plt.legend((\"coherence_values\"), loc='best')\n",
        "plt.vlines(x[np.argmax(coherence_values)], plt.ylim()[0], plt.ylim()[1],linestyles='dashed')\n",
        "plt.show()"
      ],
      "metadata": {
        "id": "jOsRSpDPb5CH",
        "colab": {
          "base_uri": "https://localhost:8080/",
          "height": 714
        },
        "outputId": "26bf58f7-0295-4176-e8db-16ee61045163"
      },
      "execution_count": null,
      "outputs": [
        {
          "output_type": "display_data",
          "data": {
            "text/plain": [
              "<Figure size 864x864 with 1 Axes>"
            ],
            "image/png": "[encoded data removed]"
          },
          "metadata": {
            "needs_background": "light"
          }
        }
      ]
    },
    {
      "cell_type": "code",
      "source": [
        "coherence_values"
      ],
      "metadata": {
        "id": "4Rb5gRpkb5GK",
        "colab": {
          "base_uri": "https://localhost:8080/"
        },
        "outputId": "0466799b-0c77-4afd-b877-ec864963817c"
      },
      "execution_count": null,
      "outputs": [
        {
          "output_type": "execute_result",
          "data": {
            "text/plain": [
              "[0.6863150878329891,\n",
              " 0.6865546846815956,\n",
              " 0.7186203850148826,\n",
              " 0.7085721053115723,\n",
              " 0.7167255612994646,\n",
              " 0.7058439635302644,\n",
              " 0.7014586577793289,\n",
              " 0.7204528441664072,\n",
              " 0.7209924566059654,\n",
              " 0.7187050785167006,\n",
              " 0.7141998813310291,\n",
              " 0.7209901741984437,\n",
              " 0.721997632927672,\n",
              " 0.7217646330539866,\n",
              " 0.7085022945345453]"
            ]
          },
          "metadata": {},
          "execution_count": 40
        }
      ]
    },
    {
      "cell_type": "code",
      "source": [
        "#list the coherence scores\n",
        "for m, cv in zip(x, coherence_values):\n",
        "    print(\"Num Topics =\", m, \" has Coherence Value of\", round(cv, 4))"
      ],
      "metadata": {
        "id": "roPsdKijb5Jz",
        "colab": {
          "base_uri": "https://localhost:8080/"
        },
        "outputId": "b0c8e4bc-6fff-4c2d-fc07-bacd815cb087"
      },
      "execution_count": null,
      "outputs": [
        {
          "output_type": "stream",
          "name": "stdout",
          "text": [
            "Num Topics = 5  has Coherence Value of 0.6863\n",
            "Num Topics = 6  has Coherence Value of 0.6866\n",
            "Num Topics = 7  has Coherence Value of 0.7186\n",
            "Num Topics = 8  has Coherence Value of 0.7086\n",
            "Num Topics = 9  has Coherence Value of 0.7167\n",
            "Num Topics = 10  has Coherence Value of 0.7058\n",
            "Num Topics = 11  has Coherence Value of 0.7015\n",
            "Num Topics = 12  has Coherence Value of 0.7205\n",
            "Num Topics = 13  has Coherence Value of 0.721\n",
            "Num Topics = 14  has Coherence Value of 0.7187\n",
            "Num Topics = 15  has Coherence Value of 0.7142\n",
            "Num Topics = 16  has Coherence Value of 0.721\n",
            "Num Topics = 17  has Coherence Value of 0.722\n",
            "Num Topics = 18  has Coherence Value of 0.7218\n",
            "Num Topics = 19  has Coherence Value of 0.7085\n"
          ]
        }
      ]
    },
    {
      "cell_type": "code",
      "source": [
        "# Topics\n",
        "model = LdaModel(corpus=corpus, num_topics=11,id2word=id2word)\n",
        "model.print_topics()"
      ],
      "metadata": {
        "id": "b9QNKbKewAPy"
      },
      "execution_count": null,
      "outputs": []
    },
    {
      "cell_type": "code",
      "source": [],
      "metadata": {
        "id": "VfNOxePrlg2C"
      },
      "execution_count": null,
      "outputs": []
    },
    {
      "cell_type": "markdown",
      "source": [
        "LDA for Non-clickbait contains topics more about politcs, terrorism. In general, more globally oriented topics. One disadvanatge with LDA is that it does not take into account context."
      ],
      "metadata": {
        "id": "hIFspzHMlhFS"
      }
    },
    {
      "cell_type": "markdown",
      "metadata": {
        "id": "wEJJli5yXOC_"
      },
      "source": [
        "# Task Four (30 points)"
      ]
    },
    {
      "cell_type": "markdown",
      "metadata": {
        "id": "CKPHtNcsXWsd"
      },
      "source": [
        "The file Q4_english_cleaned_lyrics.csv contains the lyrics for 218.209 songs in English. The dataset also has columns for the song title, artist, year, and genre."
      ]
    },
    {
      "cell_type": "markdown",
      "metadata": {
        "id": "MJPtjOjUXafj"
      },
      "source": [
        "## Question 4.1"
      ]
    },
    {
      "cell_type": "markdown",
      "metadata": {
        "id": "2W0ISHtTXg7D"
      },
      "source": [
        "Your first task is to investigate whether we can build a classifer to identify pop songs from other music genres, based on lyrics. In your answer below please make clear\n",
        "\n",
        "\n",
        "1.   which method you use\n",
        "2.   justify your choice\n",
        "3.   what steps you take"
      ]
    },
    {
      "cell_type": "markdown",
      "metadata": {
        "id": "W-HWR0ZrXRPm"
      },
      "source": [
        "I used logistic regression to build a classifer to identify pop songs. There are several factors that justify my decision. First,  logistic regression is a simple and efficient algorithm for classification tasks. It is also easy to implement and can be trained quickly on large datasets. Thus, I hoped to avoid any potential computational problems. Find the steps as commented in the code."
      ]
    },
    {
      "cell_type": "code",
      "execution_count": null,
      "metadata": {
        "id": "cuE9CE8MXeXT"
      },
      "outputs": [],
      "source": [
        "# Get data\n",
        "path = '/Q4_english_cleaned_lyrics.csv'\n",
        "df_lyrics = pd.read_csv(path)\n",
        "df_lyrics.head()"
      ]
    },
    {
      "cell_type": "code",
      "execution_count": null,
      "metadata": {
        "id": "2gduuGogUEZ0"
      },
      "outputs": [],
      "source": [
        "# Labels lyrics as Pop(1) and Non-Pop(0).\n",
        "df_lyrics['label'] = df_lyrics['genre'].apply(lambda x: 1 if x == 'Pop' else 0)"
      ]
    },
    {
      "cell_type": "code",
      "execution_count": null,
      "metadata": {
        "id": "uwL43VC1-cAC"
      },
      "outputs": [],
      "source": [
        "#Simple logistic regression\n",
        "from sklearn.model_selection import train_test_split\n",
        "\n",
        "X = list(df_lyrics.lyrics.values)\n",
        "y = list(df_lyrics.label.values) # the labels we want to predict --> Y\n",
        "labels = ['Pop', 'non-Pop']\n",
        "\n",
        "X_train_str, X_test_str, y_train, y_test = train_test_split(X, y, test_size=0.2, random_state=1)"
      ]
    },
    {
      "cell_type": "code",
      "execution_count": null,
      "metadata": {
        "id": "rquLbvrEA8cL"
      },
      "outputs": [],
      "source": [
        "#Vectorize the lyrics -- raw counts BOW\n",
        "from sklearn.feature_extraction.text import CountVectorizer\n",
        "\n",
        "cv = CountVectorizer() # this initializes the CountVectorizer\n",
        "cv.fit(X_train_str) # create the vocabulary\n",
        "\n",
        "X_train = cv.transform(X_train_str)\n",
        "X_test = cv.transform(X_test_str)"
      ]
    },
    {
      "cell_type": "code",
      "execution_count": null,
      "metadata": {
        "id": "m3skObl0A8e7",
        "colab": {
          "base_uri": "https://localhost:8080/"
        },
        "outputId": "2fde36b8-b129-475b-ff76-a6951a8d6845"
      },
      "outputs": [
        {
          "output_type": "stream",
          "name": "stdout",
          "text": [
            "[0 0 0 ... 0 0 0]\n"
          ]
        }
      ],
      "source": [
        "print(X_train.toarray()[0])"
      ]
    },
    {
      "cell_type": "code",
      "execution_count": null,
      "metadata": {
        "id": "c0_9NfKrA8iz"
      },
      "outputs": [],
      "source": [
        "#View results with CounterVectorizer - comes with its own tokenizer!\n",
        "vocabulary = cv.get_feature_names()\n",
        "vectorized_texts = pd.DataFrame(X_train.toarray(), columns=vocabulary)\n",
        "vectorized_texts.head(5)"
      ]
    },
    {
      "cell_type": "code",
      "execution_count": null,
      "metadata": {
        "id": "GuHs0jbgW09e"
      },
      "outputs": [],
      "source": [
        "#Raw counts & stop words - fit the CountVectorizer on the training set again afterwards!\n",
        "from sklearn.feature_extraction.text import CountVectorizer\n",
        "\n",
        "stop_words = ['a', 'about', 'above', 'after', 'again', 'against', 'all', 'am', 'an', 'and', 'any', 'are', \"aren't\", 'as', 'at', 'be', 'because', 'been', 'before', 'being', 'below', 'between', 'both', 'but', 'by', \"can't\", 'cannot', 'could', \"couldn't\", 'did', \"didn't\", 'do', 'does', \"doesn't\", 'doing', \"don't\", 'down', 'during', 'each', 'few', 'for', 'from', 'further', 'had', \"hadn't\", 'has', \"hasn't\", 'have', \"haven't\", 'having', 'he', \"he'd\", \"he'll\", \"he's\", 'her', 'here', \"here's\", 'hers', 'herself', 'him', 'himself', 'his', 'how', \"how's\", 'i', \"i'd\", \"i'll\", \"i'm\", \"i've\", 'if', 'in', 'into', 'is', \"isn't\", 'it', \"it's\", 'its', 'itself', \"let's\", 'me', 'more', 'most', \"mustn't\", 'my', 'myself', 'no', 'nor', 'not', 'of', 'off', 'on', 'once', 'only', 'or', 'other', 'ought', 'our', 'ours', 'ourselves', 'out', 'over', 'own', 'same', \"shan't\", 'she', \"she'd\", \"she'll\", \"she's\", 'should', \"shouldn't\", 'so', 'some', 'such', 'than', 'that', \"that's\", 'the', 'their', 'theirs', 'them', 'themselves', 'then', 'there', \"there's\", 'these', 'they', \"they'd\", \"they'll\", \"they're\", \"they've\", 'this', 'those', 'through', 'to', 'too', 'under', 'until', 'up', 'very', 'was', \"wasn't\", 'we', \"we'd\", \"we'll\", \"we're\", \"we've\", 'were', \"weren't\", 'what', \"what's\", 'when', \"when's\", 'where', \"where's\", 'which', 'while', 'who', \"who's\", 'whom', 'why', \"why's\", 'with', \"won't\", 'would', \"wouldn't\", 'you', \"you'd\", \"you'll\", \"you're\", \"you've\", 'your', 'yours', 'yourself', 'yourselves']\n",
        "\n",
        "MIN_DF = 5 # only keep words that occur more than five times becuase these words are not infomartive enough to build a classifier.\n",
        "MAX_DF = 0.6 # only keep words that occur in less then 60% of the documents because these are not too common and do not help differentiatin classes.\n",
        "\n",
        "cv = CountVectorizer(stop_words=stop_words,\n",
        "                      min_df=MIN_DF,\n",
        "                      max_df=MAX_DF)\n",
        "\n",
        "cv.fit(X_train_str)\n",
        "\n",
        "X_train = cv.transform(X_train_str)\n",
        "X_test = cv.transform(X_test_str)"
      ]
    },
    {
      "cell_type": "code",
      "execution_count": null,
      "metadata": {
        "id": "EEYmLcbPLqAk"
      },
      "outputs": [],
      "source": [
        "#train the model\n",
        "from sklearn.linear_model import LogisticRegression\n",
        "\n",
        "lr = LogisticRegression(solver='lbfgs')\n",
        "lr.fit(X_train, y_train)"
      ]
    },
    {
      "cell_type": "code",
      "execution_count": null,
      "metadata": {
        "colab": {
          "base_uri": "https://localhost:8080/"
        },
        "id": "NDnfO5arLxyB",
        "outputId": "71d415fb-002d-460e-ed3b-372b29b252ff"
      },
      "outputs": [
        {
          "output_type": "stream",
          "name": "stdout",
          "text": [
            "              precision    recall  f1-score   support\n",
            "\n",
            "         Pop       0.90      0.92      0.91      2601\n",
            "     non-Pop       0.38      0.33      0.35       412\n",
            "\n",
            "    accuracy                           0.83      3013\n",
            "   macro avg       0.64      0.62      0.63      3013\n",
            "weighted avg       0.82      0.83      0.83      3013\n",
            "\n"
          ]
        }
      ],
      "source": [
        "#Evaluate performance - results are likely to not look good but that's the point.\n",
        "from sklearn.metrics import classification_report\n",
        "\n",
        "y_pred = lr.predict(X_test)\n",
        "\n",
        "print(classification_report(y_test, y_pred,\n",
        "                          target_names=labels))"
      ]
    },
    {
      "cell_type": "code",
      "execution_count": null,
      "metadata": {
        "colab": {
          "base_uri": "https://localhost:8080/"
        },
        "id": "vagcnRfgPpXs",
        "outputId": "b00c67df-3594-4d0e-ad60-347ad3375f64"
      },
      "outputs": [
        {
          "output_type": "stream",
          "name": "stdout",
          "text": [
            "              precision    recall  f1-score   support\n",
            "\n",
            "         Pop       0.86      0.50      0.63      2601\n",
            "     non-Pop       0.13      0.47      0.20       412\n",
            "\n",
            "    accuracy                           0.50      3013\n",
            "   macro avg       0.49      0.48      0.42      3013\n",
            "weighted avg       0.76      0.50      0.57      3013\n",
            "\n"
          ]
        }
      ],
      "source": [
        "import random\n",
        "\n",
        "random_preds = [random.randint(0,1) for i in range(len(y_test))]\n",
        "\n",
        "print(classification_report(y_test, random_preds,\n",
        "                          target_names=labels))"
      ]
    },
    {
      "cell_type": "code",
      "execution_count": null,
      "metadata": {
        "colab": {
          "base_uri": "https://localhost:8080/"
        },
        "id": "Mbrj14jnPrXP",
        "outputId": "7e2e9eb7-eb46-4f6c-a293-6c9c9df50e28"
      },
      "outputs": [
        {
          "output_type": "stream",
          "name": "stdout",
          "text": [
            "[[2381  220]\n",
            " [ 278  134]]\n"
          ]
        }
      ],
      "source": [
        "#Confusion matrix\n",
        "from sklearn.metrics import confusion_matrix\n",
        "\n",
        "print(confusion_matrix(y_test, y_pred))"
      ]
    },
    {
      "cell_type": "code",
      "execution_count": null,
      "metadata": {
        "id": "HVE3N4F-XWv1"
      },
      "outputs": [],
      "source": [
        "vocabulary = cv.get_feature_names()\n",
        "regression_coefficients = lr.coef_[0] # get the LR weights\n",
        "vocab_coef_combined = list(zip(regression_coefficients, vocabulary)) # this combines two separate lists [1, 2], ['word1', 'word2'] into one list [[1, 'word1'], [2, 'word2']]\n",
        "\n",
        "feature_importance = pd.DataFrame(vocab_coef_combined,\n",
        "                      columns=['coef', 'word'])\n",
        "feature_importance.sort_values('coef', ascending=False).head(10)"
      ]
    },
    {
      "cell_type": "markdown",
      "metadata": {
        "id": "7zMhhqFIXF5p"
      },
      "source": [
        "## Question 4.2"
      ]
    },
    {
      "cell_type": "markdown",
      "metadata": {
        "id": "CxEu7m36XOxJ"
      },
      "source": [
        "Then consider the new lyrics below (see also file Q4_new_lyrics_text for copy and paste). To what extent can these be considered as a “stereotypical” pop-song in your dataset? Provide an answer based on the results of relevant data analyses and the lyrics themselves."
      ]
    },
    {
      "cell_type": "code",
      "execution_count": null,
      "metadata": {
        "id": "T-J-mpxEBGKt"
      },
      "outputs": [],
      "source": [
        "new_example = [\"The sky breaks open and the rain falls down\",\n",
        "\"Oh, and the pain is blinding\",\n",
        "\"But we carry on...\",\n",
        "\"Seems like the end of everything\",\n",
        "\"When the one you love\",\n",
        "\"Turns their back on you\",\n",
        "\"And the whole world falls down on you...\",\n",
        "\"It's the end of the world\",\n",
        "\"It's the end of the world\",\n",
        "\"Well, I'm holding on...\",\n",
        "\"But the world keeps dragging me down...\",\n",
        "\"It's the end of the world\",\n",
        "\"It's the end of the world\",\n",
        "\"Well, I'm holding on...\",\n",
        "\"But the world keeps dragging me down...\",\n",
        "\"I got my heart on lockdown\",\n",
        "\"And my eyes on the lookout\",\n",
        "\"But I just know that I'm\",\n",
        "\"Never gonna win this\",\n",
        "\"They can keep the lights on\",\n",
        "\"They can keep the music loud\",\n",
        "\"I don't need anything\",\n",
        "\"When I got my music\",\n",
        "\"And I'm holding on...\",\n",
        "\"The sky breaks open and the rain falls down\",\n",
        "\"And the pain is blinding\",\n",
        "\"But we carry on\",\n",
        "\"(They tell you lies)\",\n",
        "\"I'm holding on...\",\n",
        "\"(They tell you lies)\",\n",
        "\"The sky breaks open and the rain falls down\",\n",
        "\"Oh, and the pain is blinding\",\n",
        "\"But we carry on...\",\n",
        "\"Seems like the end of everything\",\n",
        "\"When the one you love\",\n",
        "\"Turns their back on you\",\n",
        "\"And the whole world falls down on you...\",\n",
        "\"It's the end of the world\",\n",
        "\"It's the end of the world\",\n",
        "\"Well, I'm holding on...\",\n",
        "\"But the world keeps dragging me down...\",\n",
        "\"It's the end of the world\",\n",
        "\"It's the end of the world\",\n",
        "\"Well, I'm holding on...\",\n",
        "\"But the world keeps dragging me down...\",\n",
        "\"I got my heart on lockdown\",\n",
        "\"And my eyes on the lookout\",\n",
        "\"But I just know that I'm\",\n",
        "\"Never gonna win this\",\n",
        "\"They can keep the lights on\",\n",
        "\"They can keep the music loud\",\n",
        "\"I don't need anything\",\n",
        "\"When I got my music\",\n",
        "\"And I'm holding on...\",\n",
        "\"The sky breaks open and the rain falls down\",\n",
        "\"And the pain is blinding\",\n",
        "\"But we carry on\",\n",
        "\"(They tell you lies)\",\n",
        "\"I'm holding on...\",\n",
        "\"(They tell you lies)\"]"
      ]
    },
    {
      "cell_type": "code",
      "source": [
        "# Remove newlines from each string in the list using a list comprehension\n",
        "new_example = [line.replace(\"\\n\", \" \") for line in new_example]\n",
        "\n",
        "# Concatenate the strings in the list into a single string\n",
        "new_example = \" \".join(new_example)\n",
        "\n",
        "new_example = [new_example]"
      ],
      "metadata": {
        "id": "zLekwUwQJMie"
      },
      "execution_count": null,
      "outputs": []
    },
    {
      "cell_type": "code",
      "source": [
        "# Give the genre of the lyrics. Slide to the left to see the result.\n",
        "new_example_bow = cv.transform(new_example)\n",
        "\n",
        "predictions = lr.predict(new_example_bow)\n",
        "for i, prediction in enumerate(predictions):\n",
        "    print(\"{}: {}\".format(\"The lyrics is genre of\", labels[prediction]))"
      ],
      "metadata": {
        "colab": {
          "base_uri": "https://localhost:8080/"
        },
        "id": "9U35wjCMJJVf",
        "outputId": "d1543905-287a-4abb-f6f5-c2730a938faf"
      },
      "execution_count": null,
      "outputs": [
        {
          "output_type": "stream",
          "name": "stdout",
          "text": [
            "The lyrics is genre of: Pop\n"
          ]
        }
      ]
    },
    {
      "cell_type": "code",
      "source": [
        "prediction_probabilities = lr.predict_proba(new_example_bow)\n",
        "for i, proba in enumerate(prediction_probabilities):\n",
        "    probability_not_clickbait = proba[0]\n",
        "    probability_clickbait = proba[1]\n",
        "    print(\"{}: {}% not clickbait; {}% clickbait\".format(\"The lyrics is\",\n",
        "                                                    round(probability_not_clickbait, 3),\n",
        "                                                    round(probability_clickbait, 3)))"
      ],
      "metadata": {
        "colab": {
          "base_uri": "https://localhost:8080/"
        },
        "id": "pqNeqXdoJJXW",
        "outputId": "c908cbc1-7983-4602-9ca2-76fe42702c8d"
      },
      "execution_count": null,
      "outputs": [
        {
          "output_type": "stream",
          "name": "stdout",
          "text": [
            "The lyrics is: 0.7% not clickbait; 0.3% clickbait\n"
          ]
        }
      ]
    },
    {
      "cell_type": "markdown",
      "source": [
        "According to the outcome of logistic regression, the lyrics are considered as %30 stereotypical."
      ],
      "metadata": {
        "id": "jzj1PCICgRLy"
      }
    },
    {
      "cell_type": "markdown",
      "metadata": {
        "id": "cPj4w7d1CjM7"
      },
      "source": [
        "# Reference"
      ]
    },
    {
      "cell_type": "markdown",
      "metadata": {
        "id": "j27AMQDXCnvE"
      },
      "source": [
        "Christian Baden, Christian Pipal, Martijn Schoonvelde & Mariken A. C. G van der Velden (2022) Three Gaps in Computational Text Analysis Methods for Social Sciences: A Research Agenda, Communication Methods and Measures, 16:1, 1-18, DOI: 10.1080/19312458.2021.2015574"
      ]
    },
    {
      "cell_type": "markdown",
      "metadata": {
        "id": "5xR2cAvDC6cA"
      },
      "source": [
        "Nguyen, D. (2022). Lecture Week 2 [PDF slides]. Utrecht University Critical Data Mining of Media Culture Microsoft Teams: https://solisservices.sharepoint.com/:b:/r/sites/CriticalDataMiningofMediaCultureINFOMCDMMC/Shared%20Documents/General/Slides%20Lecture/INFOMCDMMC_Lecture_2.pdf?csf=1&web=1&e=K8AEne"
      ]
    },
    {
      "cell_type": "markdown",
      "source": [
        "Nguyen, D. (2022). Seminar Exercise 1, 2, 3, 4 [Python codes]. Utrecht University Critical Data Mining of Media Culture"
      ],
      "metadata": {
        "id": "KwRxylDe-DD5"
      }
    },
    {
      "cell_type": "markdown",
      "source": [
        "Veerbeek, J. (2021). Data mining. Retrieved from https://jveerbeek.gitlab.io/data-mining/index.html"
      ],
      "metadata": {
        "id": "aAw7dGy29vol"
      }
    },
    {
      "cell_type": "code",
      "source": [],
      "metadata": {
        "id": "LtHozBJs923V"
      },
      "execution_count": null,
      "outputs": []
    }
  ],
  "metadata": {
    "colab": {
      "toc_visible": true,
      "provenance": [],
      "include_colab_link": true
    },
    "gpuClass": "standard",
    "kernelspec": {
      "display_name": "Python 3",
      "name": "python3"
    },
    "language_info": {
      "name": "python"
    }
  },
  "nbformat": 4,
  "nbformat_minor": 0
}